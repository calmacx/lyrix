{
 "cells": [
  {
   "cell_type": "markdown",
   "id": "unlikely-malta",
   "metadata": {},
   "source": [
    "The following workbook shows how the python module `lyrix` can be used to retrieve statistics about song lyrics for multiple artists and begin to perform analysis on the results."
   ]
  },
  {
   "cell_type": "markdown",
   "id": "african-questionnaire",
   "metadata": {},
   "source": [
    "## Setup\n",
    "\n",
    "To install the code, checkout the package:\n",
    "```\n",
    "git clone https://github.com/calmacx/lyrix.git\n",
    "```\n",
    "\n",
    "**The package should be used with python `>=3.8`**\n",
    "\n",
    "Setup a virtual python enviroment (optional)\n",
    "```\n",
    "python3 -m venv .\n",
    "source bin/activate\n",
    "```\n",
    "Install the package (and dependancies):\n",
    "```\n",
    "pip install -e ./lyrix\n",
    "```\n"
   ]
  },
  {
   "cell_type": "markdown",
   "id": "familiar-university",
   "metadata": {},
   "source": [
    "## Create a Lyrix class instance\n",
    "\n",
    "From the python module `lyrix` import the class `Lyrix`"
   ]
  },
  {
   "cell_type": "code",
   "execution_count": 1,
   "id": "surrounded-remove",
   "metadata": {},
   "outputs": [],
   "source": [
    "from lyrix import Lyrix"
   ]
  },
  {
   "cell_type": "markdown",
   "id": "sorted-burden",
   "metadata": {},
   "source": [
    "create an object that will hold our data, using all the defaults:"
   ]
  },
  {
   "cell_type": "code",
   "execution_count": 2,
   "id": "everyday-rough",
   "metadata": {},
   "outputs": [
    {
     "name": "stderr",
     "output_type": "stream",
     "text": [
      "\u001b[32m2022-03-13 20:36:37\u001b[0m - \u001b[34mLyrix\u001b[0m - \u001b[1;37mINFO\u001b[0m - Setup SpotifyAPI with https://api.spotify.com/v1/\n",
      "\u001b[32m2022-03-13 20:36:37\u001b[0m - \u001b[34mLyrix\u001b[0m - \u001b[1;37mINFO\u001b[0m - Setup LyricsAPI with https://api.lyrics.ovh/v1\n"
     ]
    },
    {
     "data": {
      "text/plain": [
       "<lyrix.Lyrix at 0x106607160>"
      ]
     },
     "execution_count": 2,
     "metadata": {},
     "output_type": "execute_result"
    }
   ],
   "source": [
    "lyrix = Lyrix()\n",
    "lyrix"
   ]
  },
  {
   "cell_type": "markdown",
   "id": "miniature-broadcast",
   "metadata": {},
   "source": [
    "## Search \n",
    "\n",
    "Using a simple functionality, retrieve the song lyrics for a given artist and song"
   ]
  },
  {
   "cell_type": "code",
   "execution_count": 3,
   "id": "stunning-hospital",
   "metadata": {
    "scrolled": false
   },
   "outputs": [
    {
     "name": "stderr",
     "output_type": "stream",
     "text": [
      "\u001b[32m2022-03-13 20:36:37\u001b[0m - \u001b[34mLyrix\u001b[0m - \u001b[1;37mINFO\u001b[0m - successfully got dont stop me now for queen\n",
      "\u001b[32m2022-03-13 20:36:37\u001b[0m - \u001b[34mLyrix\u001b[0m - \u001b[1;37m🎵\u001b[0m - =====================\n",
      "\u001b[32m2022-03-13 20:36:37\u001b[0m - \u001b[34mLyrix\u001b[0m - \u001b[1;37m🎵\u001b[0m - Tonight I'm gonna have myself a real good time\n",
      "\u001b[32m2022-03-13 20:36:37\u001b[0m - \u001b[34mLyrix\u001b[0m - \u001b[1;37m🎵\u001b[0m - I feel alive and the world turning inside out Yeah!\n",
      "\u001b[32m2022-03-13 20:36:37\u001b[0m - \u001b[34mLyrix\u001b[0m - \u001b[1;37m🎵\u001b[0m - And floating around in ecstasy\n",
      "\u001b[32m2022-03-13 20:36:37\u001b[0m - \u001b[34mLyrix\u001b[0m - \u001b[1;37m🎵\u001b[0m - So don't stop me now don't stop me\n",
      "\u001b[32m2022-03-13 20:36:37\u001b[0m - \u001b[34mLyrix\u001b[0m - \u001b[1;37m🎵\u001b[0m - 'Cause I'm having a good time having a good time\n",
      "\u001b[32m2022-03-13 20:36:37\u001b[0m - \u001b[34mLyrix\u001b[0m - \u001b[1;37m🎵\u001b[0m - \n",
      "\u001b[32m2022-03-13 20:36:38\u001b[0m - \u001b[34mLyrix\u001b[0m - \u001b[1;37m🎵\u001b[0m - I'm a shooting star leaping through the sky\n",
      "\u001b[32m2022-03-13 20:36:38\u001b[0m - \u001b[34mLyrix\u001b[0m - \u001b[1;37m🎵\u001b[0m - \n",
      "\u001b[32m2022-03-13 20:36:38\u001b[0m - \u001b[34mLyrix\u001b[0m - \u001b[1;37m🎵\u001b[0m - Like a tiger defying the laws of gravity\n",
      "\u001b[32m2022-03-13 20:36:38\u001b[0m - \u001b[34mLyrix\u001b[0m - \u001b[1;37m🎵\u001b[0m - \n",
      "\u001b[32m2022-03-13 20:36:38\u001b[0m - \u001b[34mLyrix\u001b[0m - \u001b[1;37m🎵\u001b[0m - I'm a racing car passing by like Lady Godiva\n",
      "\u001b[32m2022-03-13 20:36:38\u001b[0m - \u001b[34mLyrix\u001b[0m - \u001b[1;37m🎵\u001b[0m - \n",
      "\u001b[32m2022-03-13 20:36:38\u001b[0m - \u001b[34mLyrix\u001b[0m - \u001b[1;37m🎵\u001b[0m - I'm gonna go go go\n",
      "\u001b[32m2022-03-13 20:36:38\u001b[0m - \u001b[34mLyrix\u001b[0m - \u001b[1;37m🎵\u001b[0m - \n",
      "\u001b[32m2022-03-13 20:36:38\u001b[0m - \u001b[34mLyrix\u001b[0m - \u001b[1;37m🎵\u001b[0m - There's no stopping me\n",
      "\u001b[32m2022-03-13 20:36:38\u001b[0m - \u001b[34mLyrix\u001b[0m - \u001b[1;37m🎵\u001b[0m - \n",
      "\u001b[32m2022-03-13 20:36:38\u001b[0m - \u001b[34mLyrix\u001b[0m - \u001b[1;37m🎵\u001b[0m - \n",
      "\u001b[32m2022-03-13 20:36:38\u001b[0m - \u001b[34mLyrix\u001b[0m - \u001b[1;37m🎵\u001b[0m - \n",
      "\u001b[32m2022-03-13 20:36:38\u001b[0m - \u001b[34mLyrix\u001b[0m - \u001b[1;37m🎵\u001b[0m - I'm burning through the sky Yeah!\n",
      "\u001b[32m2022-03-13 20:36:38\u001b[0m - \u001b[34mLyrix\u001b[0m - \u001b[1;37m🎵\u001b[0m - \n",
      "\u001b[32m2022-03-13 20:36:38\u001b[0m - \u001b[34mLyrix\u001b[0m - \u001b[1;37m🎵\u001b[0m - Two hundred degrees\n",
      "\u001b[32m2022-03-13 20:36:38\u001b[0m - \u001b[34mLyrix\u001b[0m - \u001b[1;37m🎵\u001b[0m - \n",
      "\u001b[32m2022-03-13 20:36:38\u001b[0m - \u001b[34mLyrix\u001b[0m - \u001b[1;37m🎵\u001b[0m - That's why they call me Mister Fahrenheit\n",
      "\u001b[32m2022-03-13 20:36:38\u001b[0m - \u001b[34mLyrix\u001b[0m - \u001b[1;37m🎵\u001b[0m - \n",
      "\u001b[32m2022-03-13 20:36:38\u001b[0m - \u001b[34mLyrix\u001b[0m - \u001b[1;37m🎵\u001b[0m - I'm trav'ling at the speed of light\n",
      "\u001b[32m2022-03-13 20:36:38\u001b[0m - \u001b[34mLyrix\u001b[0m - \u001b[1;37m🎵\u001b[0m - \n",
      "\u001b[32m2022-03-13 20:36:38\u001b[0m - \u001b[34mLyrix\u001b[0m - \u001b[1;37m🎵\u001b[0m - I wanna make a supersonic man out of you\n",
      "\u001b[32m2022-03-13 20:36:38\u001b[0m - \u001b[34mLyrix\u001b[0m - \u001b[1;37m🎵\u001b[0m - \n",
      "\u001b[32m2022-03-13 20:36:38\u001b[0m - \u001b[34mLyrix\u001b[0m - \u001b[1;37m🎵\u001b[0m - \n",
      "\u001b[32m2022-03-13 20:36:38\u001b[0m - \u001b[34mLyrix\u001b[0m - \u001b[1;37m🎵\u001b[0m - \n",
      "\u001b[32m2022-03-13 20:36:38\u001b[0m - \u001b[34mLyrix\u001b[0m - \u001b[1;37m🎵\u001b[0m - Don't stop me now I'm having such a good time\n",
      "\u001b[32m2022-03-13 20:36:38\u001b[0m - \u001b[34mLyrix\u001b[0m - \u001b[1;37m🎵\u001b[0m - \n",
      "\u001b[32m2022-03-13 20:36:38\u001b[0m - \u001b[34mLyrix\u001b[0m - \u001b[1;37m🎵\u001b[0m - I'm having a ball don't stop me now\n",
      "\u001b[32m2022-03-13 20:36:38\u001b[0m - \u001b[34mLyrix\u001b[0m - \u001b[1;37m🎵\u001b[0m - \n",
      "\u001b[32m2022-03-13 20:36:38\u001b[0m - \u001b[34mLyrix\u001b[0m - \u001b[1;37m🎵\u001b[0m - If you wanna have a good time just give me a call\n",
      "\u001b[32m2022-03-13 20:36:38\u001b[0m - \u001b[34mLyrix\u001b[0m - \u001b[1;37m🎵\u001b[0m - \n",
      "\u001b[32m2022-03-13 20:36:38\u001b[0m - \u001b[34mLyrix\u001b[0m - \u001b[1;37m🎵\u001b[0m - Don't stop me now ('cause I'm havin' a good time)\n",
      "\u001b[32m2022-03-13 20:36:38\u001b[0m - \u001b[34mLyrix\u001b[0m - \u001b[1;37m🎵\u001b[0m - \n",
      "\u001b[32m2022-03-13 20:36:38\u001b[0m - \u001b[34mLyrix\u001b[0m - \u001b[1;37m🎵\u001b[0m - Don't stop me now (yes I'm havin' a good time)\n",
      "\u001b[32m2022-03-13 20:36:38\u001b[0m - \u001b[34mLyrix\u001b[0m - \u001b[1;37m🎵\u001b[0m - \n",
      "\u001b[32m2022-03-13 20:36:38\u001b[0m - \u001b[34mLyrix\u001b[0m - \u001b[1;37m🎵\u001b[0m - I don't want to stop at all\n",
      "\u001b[32m2022-03-13 20:36:38\u001b[0m - \u001b[34mLyrix\u001b[0m - \u001b[1;37m🎵\u001b[0m - \n",
      "\u001b[32m2022-03-13 20:36:38\u001b[0m - \u001b[34mLyrix\u001b[0m - \u001b[1;37m🎵\u001b[0m - \n",
      "\u001b[32m2022-03-13 20:36:38\u001b[0m - \u001b[34mLyrix\u001b[0m - \u001b[1;37m🎵\u001b[0m - \n",
      "\u001b[32m2022-03-13 20:36:38\u001b[0m - \u001b[34mLyrix\u001b[0m - \u001b[1;37m🎵\u001b[0m - I'm a rocket ship on my way to Mars\n",
      "\u001b[32m2022-03-13 20:36:38\u001b[0m - \u001b[34mLyrix\u001b[0m - \u001b[1;37m🎵\u001b[0m - \n",
      "\u001b[32m2022-03-13 20:36:38\u001b[0m - \u001b[34mLyrix\u001b[0m - \u001b[1;37m🎵\u001b[0m - On a collision course\n",
      "\u001b[32m2022-03-13 20:36:38\u001b[0m - \u001b[34mLyrix\u001b[0m - \u001b[1;37m🎵\u001b[0m - \n",
      "\u001b[32m2022-03-13 20:36:38\u001b[0m - \u001b[34mLyrix\u001b[0m - \u001b[1;37m🎵\u001b[0m - I am a satellite I'm out of control\n",
      "\u001b[32m2022-03-13 20:36:38\u001b[0m - \u001b[34mLyrix\u001b[0m - \u001b[1;37m🎵\u001b[0m - \n",
      "\u001b[32m2022-03-13 20:36:38\u001b[0m - \u001b[34mLyrix\u001b[0m - \u001b[1;37m🎵\u001b[0m - I am a sex machine ready to reload\n",
      "\u001b[32m2022-03-13 20:36:38\u001b[0m - \u001b[34mLyrix\u001b[0m - \u001b[1;37m🎵\u001b[0m - \n",
      "\u001b[32m2022-03-13 20:36:38\u001b[0m - \u001b[34mLyrix\u001b[0m - \u001b[1;37m🎵\u001b[0m - Like an atom bomb about to\n",
      "\u001b[32m2022-03-13 20:36:38\u001b[0m - \u001b[34mLyrix\u001b[0m - \u001b[1;37m🎵\u001b[0m - \n",
      "\u001b[32m2022-03-13 20:36:38\u001b[0m - \u001b[34mLyrix\u001b[0m - \u001b[1;37m🎵\u001b[0m - Oh oh oh oh oh explode\n",
      "\u001b[32m2022-03-13 20:36:38\u001b[0m - \u001b[34mLyrix\u001b[0m - \u001b[1;37m🎵\u001b[0m - \n",
      "\u001b[32m2022-03-13 20:36:38\u001b[0m - \u001b[34mLyrix\u001b[0m - \u001b[1;37m🎵\u001b[0m - \n",
      "\u001b[32m2022-03-13 20:36:38\u001b[0m - \u001b[34mLyrix\u001b[0m - \u001b[1;37m🎵\u001b[0m - \n",
      "\u001b[32m2022-03-13 20:36:38\u001b[0m - \u001b[34mLyrix\u001b[0m - \u001b[1;37m🎵\u001b[0m - I'm burning through the sky Yeah!\n",
      "\u001b[32m2022-03-13 20:36:38\u001b[0m - \u001b[34mLyrix\u001b[0m - \u001b[1;37m🎵\u001b[0m - \n",
      "\u001b[32m2022-03-13 20:36:38\u001b[0m - \u001b[34mLyrix\u001b[0m - \u001b[1;37m🎵\u001b[0m - Two hundred degrees\n",
      "\u001b[32m2022-03-13 20:36:38\u001b[0m - \u001b[34mLyrix\u001b[0m - \u001b[1;37m🎵\u001b[0m - \n",
      "\u001b[32m2022-03-13 20:36:38\u001b[0m - \u001b[34mLyrix\u001b[0m - \u001b[1;37m🎵\u001b[0m - That's why they call me Mister Fahrenheit\n",
      "\u001b[32m2022-03-13 20:36:38\u001b[0m - \u001b[34mLyrix\u001b[0m - \u001b[1;37m🎵\u001b[0m - \n",
      "\u001b[32m2022-03-13 20:36:38\u001b[0m - \u001b[34mLyrix\u001b[0m - \u001b[1;37m🎵\u001b[0m - I'm trav'ling at the speed of light\n",
      "\u001b[32m2022-03-13 20:36:38\u001b[0m - \u001b[34mLyrix\u001b[0m - \u001b[1;37m🎵\u001b[0m - \n",
      "\u001b[32m2022-03-13 20:36:38\u001b[0m - \u001b[34mLyrix\u001b[0m - \u001b[1;37m🎵\u001b[0m - I wanna make a supersonic woman of you\n",
      "\u001b[32m2022-03-13 20:36:38\u001b[0m - \u001b[34mLyrix\u001b[0m - \u001b[1;37m🎵\u001b[0m - \n",
      "\u001b[32m2022-03-13 20:36:38\u001b[0m - \u001b[34mLyrix\u001b[0m - \u001b[1;37m🎵\u001b[0m - \n",
      "\u001b[32m2022-03-13 20:36:38\u001b[0m - \u001b[34mLyrix\u001b[0m - \u001b[1;37m🎵\u001b[0m - \n",
      "\u001b[32m2022-03-13 20:36:38\u001b[0m - \u001b[34mLyrix\u001b[0m - \u001b[1;37m🎵\u001b[0m - Don't stop me don't stop me\n",
      "\u001b[32m2022-03-13 20:36:38\u001b[0m - \u001b[34mLyrix\u001b[0m - \u001b[1;37m🎵\u001b[0m - \n",
      "\u001b[32m2022-03-13 20:36:38\u001b[0m - \u001b[34mLyrix\u001b[0m - \u001b[1;37m🎵\u001b[0m - Don't stop me hey hey hey!\n",
      "\u001b[32m2022-03-13 20:36:38\u001b[0m - \u001b[34mLyrix\u001b[0m - \u001b[1;37m🎵\u001b[0m - \n",
      "\u001b[32m2022-03-13 20:36:38\u001b[0m - \u001b[34mLyrix\u001b[0m - \u001b[1;37m🎵\u001b[0m - Don't stop me don't stop me ooh ooh ooh (I like it)\n",
      "\u001b[32m2022-03-13 20:36:38\u001b[0m - \u001b[34mLyrix\u001b[0m - \u001b[1;37m🎵\u001b[0m - \n",
      "\u001b[32m2022-03-13 20:36:38\u001b[0m - \u001b[34mLyrix\u001b[0m - \u001b[1;37m🎵\u001b[0m - Don't stop me don't stop me\n",
      "\u001b[32m2022-03-13 20:36:38\u001b[0m - \u001b[34mLyrix\u001b[0m - \u001b[1;37m🎵\u001b[0m - \n",
      "\u001b[32m2022-03-13 20:36:38\u001b[0m - \u001b[34mLyrix\u001b[0m - \u001b[1;37m🎵\u001b[0m - Have a good time good time\n",
      "\u001b[32m2022-03-13 20:36:38\u001b[0m - \u001b[34mLyrix\u001b[0m - \u001b[1;37m🎵\u001b[0m - \n",
      "\u001b[32m2022-03-13 20:36:38\u001b[0m - \u001b[34mLyrix\u001b[0m - \u001b[1;37m🎵\u001b[0m - Don't stop me don't stop me Ah\n",
      "\u001b[32m2022-03-13 20:36:38\u001b[0m - \u001b[34mLyrix\u001b[0m - \u001b[1;37m🎵\u001b[0m - \n",
      "\u001b[32m2022-03-13 20:36:38\u001b[0m - \u001b[34mLyrix\u001b[0m - \u001b[1;37m🎵\u001b[0m - \n",
      "\u001b[32m2022-03-13 20:36:38\u001b[0m - \u001b[34mLyrix\u001b[0m - \u001b[1;37m🎵\u001b[0m - \n",
      "\u001b[32m2022-03-13 20:36:38\u001b[0m - \u001b[34mLyrix\u001b[0m - \u001b[1;37m🎵\u001b[0m - I'm burning through the sky Yeah!\n",
      "\u001b[32m2022-03-13 20:36:38\u001b[0m - \u001b[34mLyrix\u001b[0m - \u001b[1;37m🎵\u001b[0m - \n",
      "\u001b[32m2022-03-13 20:36:38\u001b[0m - \u001b[34mLyrix\u001b[0m - \u001b[1;37m🎵\u001b[0m - Two hundred degrees\n",
      "\u001b[32m2022-03-13 20:36:38\u001b[0m - \u001b[34mLyrix\u001b[0m - \u001b[1;37m🎵\u001b[0m - \n",
      "\u001b[32m2022-03-13 20:36:38\u001b[0m - \u001b[34mLyrix\u001b[0m - \u001b[1;37m🎵\u001b[0m - That's why they call me Mister Fahrenheit\n",
      "\u001b[32m2022-03-13 20:36:38\u001b[0m - \u001b[34mLyrix\u001b[0m - \u001b[1;37m🎵\u001b[0m - \n",
      "\u001b[32m2022-03-13 20:36:38\u001b[0m - \u001b[34mLyrix\u001b[0m - \u001b[1;37m🎵\u001b[0m - I'm trav'ling at the speed of light\n",
      "\u001b[32m2022-03-13 20:36:38\u001b[0m - \u001b[34mLyrix\u001b[0m - \u001b[1;37m🎵\u001b[0m - \n",
      "\u001b[32m2022-03-13 20:36:38\u001b[0m - \u001b[34mLyrix\u001b[0m - \u001b[1;37m🎵\u001b[0m - I wanna make a supersonic man out of you\n",
      "\u001b[32m2022-03-13 20:36:38\u001b[0m - \u001b[34mLyrix\u001b[0m - \u001b[1;37m🎵\u001b[0m - \n",
      "\u001b[32m2022-03-13 20:36:38\u001b[0m - \u001b[34mLyrix\u001b[0m - \u001b[1;37m🎵\u001b[0m - \n",
      "\u001b[32m2022-03-13 20:36:38\u001b[0m - \u001b[34mLyrix\u001b[0m - \u001b[1;37m🎵\u001b[0m - \n",
      "\u001b[32m2022-03-13 20:36:38\u001b[0m - \u001b[34mLyrix\u001b[0m - \u001b[1;37m🎵\u001b[0m - Don't stop me now I'm having such a good time\n",
      "\u001b[32m2022-03-13 20:36:38\u001b[0m - \u001b[34mLyrix\u001b[0m - \u001b[1;37m🎵\u001b[0m - \n",
      "\u001b[32m2022-03-13 20:36:38\u001b[0m - \u001b[34mLyrix\u001b[0m - \u001b[1;37m🎵\u001b[0m - I'm having a ball don't stop me now\n"
     ]
    },
    {
     "name": "stderr",
     "output_type": "stream",
     "text": [
      "\u001b[32m2022-03-13 20:36:38\u001b[0m - \u001b[34mLyrix\u001b[0m - \u001b[1;37m🎵\u001b[0m - \n",
      "\u001b[32m2022-03-13 20:36:38\u001b[0m - \u001b[34mLyrix\u001b[0m - \u001b[1;37m🎵\u001b[0m - If you wanna have a good time just give me a call\n",
      "\u001b[32m2022-03-13 20:36:38\u001b[0m - \u001b[34mLyrix\u001b[0m - \u001b[1;37m🎵\u001b[0m - \n",
      "\u001b[32m2022-03-13 20:36:38\u001b[0m - \u001b[34mLyrix\u001b[0m - \u001b[1;37m🎵\u001b[0m - Don't stop me now ('cause I'm havin' a good time)\n",
      "\u001b[32m2022-03-13 20:36:38\u001b[0m - \u001b[34mLyrix\u001b[0m - \u001b[1;37m🎵\u001b[0m - \n",
      "\u001b[32m2022-03-13 20:36:38\u001b[0m - \u001b[34mLyrix\u001b[0m - \u001b[1;37m🎵\u001b[0m - Don't stop me now (yes I'm havin' a good time)\n",
      "\u001b[32m2022-03-13 20:36:38\u001b[0m - \u001b[34mLyrix\u001b[0m - \u001b[1;37m🎵\u001b[0m - \n",
      "\u001b[32m2022-03-13 20:36:38\u001b[0m - \u001b[34mLyrix\u001b[0m - \u001b[1;37m🎵\u001b[0m - I don't want to stop at all\n"
     ]
    }
   ],
   "source": [
    "lyrix.search('queen','dont stop me now')"
   ]
  },
  {
   "cell_type": "markdown",
   "id": "sticky-trace",
   "metadata": {},
   "source": [
    "## Retrieve an Artist\n",
    "\n",
    "Use the module to search and retrieve data for an artist:"
   ]
  },
  {
   "cell_type": "code",
   "execution_count": 4,
   "id": "supposed-soccer",
   "metadata": {
    "scrolled": false
   },
   "outputs": [
    {
     "name": "stderr",
     "output_type": "stream",
     "text": [
      "\u001b[32m2022-03-13 20:36:38\u001b[0m - \u001b[34mLyrix\u001b[0m - \u001b[1;37mWARNING\u001b[0m - \u001b[33mfound multiple artists: [('Queen', '1dfeR4HaWDbWqFHLkxsg1d'), ('Queen Naija', '3nViOFa3kZW8OMSNOzwr98'), ('Beyoncé', '6vWDO969PvNqNYHIOW5v0m'), ('Queens of the Stone Age', '4pejUc4iciQfgdX6OKulQn'), ('Queen Pen', '0VbIlorLz3I5SEtIsc5vAr'), ('Ivy Queen', '6p2442ymrT9lZEuCZJdYcH'), ('Queensrÿche', '2OgUPVlWYgGBGMefZgGvCO'), ('Queen Latifah', '5m7wCUhYhBh7A3A3YMxrbt'), ('Queen Key', '3IhYHKVt0Q9vxCCwiCHahR'), ('Queendom Come', '0tFnayGz6sZxgRf1YS5VmI'), ('Christine and the Queens', '04vj3iPUiVh5melWr0w3xT'), ('QUEEN BEE', '6whFEcaV75AmQMiwlfaxvc'), ('Queens Cast', '3Wr7oIlbc44t0Cek1VIg5D'), ('Scene Queen', '6WandyxeDxlcOTwxtnTKP4'), ('Queen of Apostles', '6SpoPWwwrTSB4w0G0twAkv'), ('Alexandra', '6sOhwBjVzpiEBAYEWYwDoX'), ('Queen Millz', '2pFjYsNEe6hIBcRH4PT8m0'), ('Benedictines of Mary, Queen of Apostles', '4o79bJJ2tBszgEDEvLhB2L'), ('Queen Chrysalis', '2IhiXMCfrYOJn5gnnLen28'), ('Queen Ifrica', '5SK75gxwqKq5Zc1mdLfwv9')]. Using the first!\u001b[0m\n",
      "\u001b[32m2022-03-13 20:36:38\u001b[0m - \u001b[34mLyrix\u001b[0m - \u001b[1;37mINFO\u001b[0m - found the artist 'Queen' with id=1dfeR4HaWDbWqFHLkxsg1d\n",
      "\u001b[32m2022-03-13 20:36:38\u001b[0m - \u001b[34mLyrix\u001b[0m - \u001b[1;37mINFO\u001b[0m - found 20 albums\n",
      "\u001b[32m2022-03-13 20:36:39\u001b[0m - \u001b[34mLyrix\u001b[0m - \u001b[1;37mINFO\u001b[0m - found 132 songs\n",
      "\u001b[32m2022-03-13 20:36:39\u001b[0m - \u001b[34mLyrix\u001b[0m - \u001b[1;37mERROR\u001b[0m - \u001b[31mHTTPSConnectionPool(host='api.lyrics.ovh', port=443): Max retries exceeded with url: /v1/Queen%22/%22We%20Will%20Rock%20You%20(Fast)%22 (Caused by NewConnectionError('<urllib3.connection.HTTPSConnection object at 0x106c38280>: Failed to establish a new connection: [Errno 8] nodename nor servname provided, or not known'))\u001b[0m\n",
      "\u001b[32m2022-03-13 20:36:39\u001b[0m - \u001b[34mLyrix\u001b[0m - \u001b[1;37mERROR\u001b[0m - \u001b[31mfailed to get a response for We Will Rock You (Fast)\u001b[0m\n",
      "\u001b[32m2022-03-13 20:36:40\u001b[0m - \u001b[34mLyrix\u001b[0m - \u001b[1;37mINFO\u001b[0m - successfully got Now I'm Here for Queen\n",
      "\u001b[32m2022-03-13 20:36:41\u001b[0m - \u001b[34mLyrix\u001b[0m - \u001b[1;37mINFO\u001b[0m - successfully got I Want To Break Free for Queen\n",
      "\u001b[32m2022-03-13 20:36:41\u001b[0m - \u001b[34mLyrix\u001b[0m - \u001b[1;37mINFO\u001b[0m - successfully got Don't Stop Me Now for Queen\n",
      "\u001b[32m2022-03-13 20:36:41\u001b[0m - \u001b[34mLyrix\u001b[0m - \u001b[1;37mINFO\u001b[0m - successfully got Fat Bottomed Girls for Queen\n",
      "\u001b[32m2022-03-13 20:36:42\u001b[0m - \u001b[34mLyrix\u001b[0m - \u001b[1;37mINFO\u001b[0m - successfully got Somebody To Love for Queen\n",
      "\u001b[32m2022-03-13 20:36:42\u001b[0m - \u001b[34mLyrix\u001b[0m - \u001b[1;37mINFO\u001b[0m - successfully got Under Pressure for Queen\n",
      "\u001b[32m2022-03-13 20:36:42\u001b[0m - \u001b[34mLyrix\u001b[0m - \u001b[1;37mINFO\u001b[0m - successfully got The Show Must Go On for Queen\n",
      "\u001b[32m2022-03-13 20:36:42\u001b[0m - \u001b[34mLyrix\u001b[0m - \u001b[1;37mINFO\u001b[0m - successfully got Another One Bites The Dust for Queen\n",
      "\u001b[32m2022-03-13 20:36:42\u001b[0m - \u001b[34mLyrix\u001b[0m - \u001b[1;37mINFO\u001b[0m - successfully got Bohemian Rhapsody for Queen\n",
      "\u001b[32m2022-03-13 20:36:42\u001b[0m - \u001b[34mLyrix\u001b[0m - \u001b[1;37mINFO\u001b[0m - successfully got I Was Born To Love You for Queen\n",
      "\u001b[32m2022-03-13 20:36:42\u001b[0m - \u001b[34mLyrix\u001b[0m - \u001b[1;37mINFO\u001b[0m - successfully got Who Wants To Live Forever for Queen\n",
      "\u001b[32m2022-03-13 20:36:43\u001b[0m - \u001b[34mLyrix\u001b[0m - \u001b[1;37mINFO\u001b[0m - successfully got Hammer To Fall for Queen\n",
      "\u001b[32m2022-03-13 20:36:43\u001b[0m - \u001b[34mLyrix\u001b[0m - \u001b[1;37mINFO\u001b[0m - successfully got We Are The Champions for Queen\n",
      "\u001b[32m2022-03-13 20:36:43\u001b[0m - \u001b[34mLyrix\u001b[0m - \u001b[1;37mINFO\u001b[0m - successfully got Doing All Right for Queen\n",
      "\u001b[32m2022-03-13 20:36:43\u001b[0m - \u001b[34mLyrix\u001b[0m - \u001b[1;37mINFO\u001b[0m - successfully got Radio Ga Ga for Queen\n",
      "\u001b[32m2022-03-13 20:36:43\u001b[0m - \u001b[34mLyrix\u001b[0m - \u001b[1;37mINFO\u001b[0m - successfully got Tear It Up for Queen\n",
      "\u001b[32m2022-03-13 20:36:44\u001b[0m - \u001b[34mLyrix\u001b[0m - \u001b[1;37mWARNING\u001b[0m - \u001b[33mfailed to get lyrics for Jailhouse Rock / Stupid Cupid / Be Bop A Lula\u001b[0m\n",
      "\u001b[32m2022-03-13 20:36:44\u001b[0m - \u001b[34mLyrix\u001b[0m - \u001b[1;37mWARNING\u001b[0m - \u001b[33mfailed to get lyrics for One Vision\u001b[0m\n",
      "\u001b[32m2022-03-13 20:36:45\u001b[0m - \u001b[34mLyrix\u001b[0m - \u001b[1;37mWARNING\u001b[0m - \u001b[33mfailed to get lyrics for Love Kills\u001b[0m\n",
      "\u001b[32m2022-03-13 20:36:46\u001b[0m - \u001b[34mLyrix\u001b[0m - \u001b[1;37mINFO\u001b[0m - successfully got 20th Century Fox Fanfare for Queen\n",
      "\u001b[32m2022-03-13 20:36:47\u001b[0m - \u001b[34mLyrix\u001b[0m - \u001b[1;37mINFO\u001b[0m - successfully got We Will Rock You for Queen\n",
      "\u001b[32m2022-03-13 20:36:47\u001b[0m - \u001b[34mLyrix\u001b[0m - \u001b[1;37mINFO\u001b[0m - successfully got Killer Queen for Queen\n",
      "\u001b[32m2022-03-13 20:36:47\u001b[0m - \u001b[34mLyrix\u001b[0m - \u001b[1;37mINFO\u001b[0m - successfully got Keep Yourself Alive for Queen\n",
      "\u001b[32m2022-03-13 20:36:48\u001b[0m - \u001b[34mLyrix\u001b[0m - \u001b[1;37mINFO\u001b[0m - successfully got Son And Daughter for Queen\n",
      "\u001b[32m2022-03-13 20:36:48\u001b[0m - \u001b[34mLyrix\u001b[0m - \u001b[1;37mINFO\u001b[0m - successfully got Liar for Queen\n",
      "\u001b[32m2022-03-13 20:36:48\u001b[0m - \u001b[34mLyrix\u001b[0m - \u001b[1;37mINFO\u001b[0m - successfully got See What A Fool I've Been for Queen\n",
      "\u001b[32m2022-03-13 20:36:48\u001b[0m - \u001b[34mLyrix\u001b[0m - \u001b[1;37mWARNING\u001b[0m - \u001b[33mfailed to get lyrics for Ay-Oh\u001b[0m\n",
      "\u001b[32m2022-03-13 20:36:51\u001b[0m - \u001b[34mLyrix\u001b[0m - \u001b[1;37mINFO\u001b[0m - successfully got Nevermore for Queen\n",
      "\u001b[32m2022-03-13 20:36:51\u001b[0m - \u001b[34mLyrix\u001b[0m - \u001b[1;37mINFO\u001b[0m - successfully got Ogre Battle for Queen\n",
      "\u001b[32m2022-03-13 20:36:51\u001b[0m - \u001b[34mLyrix\u001b[0m - \u001b[1;37mINFO\u001b[0m - successfully got Crazy Little Thing Called Love for Queen\n",
      "\u001b[32m2022-03-13 20:36:51\u001b[0m - \u001b[34mLyrix\u001b[0m - \u001b[1;37mINFO\u001b[0m - successfully got Love Of My Life for Queen\n",
      "\u001b[32m2022-03-13 20:36:51\u001b[0m - \u001b[34mLyrix\u001b[0m - \u001b[1;37mINFO\u001b[0m - successfully got My Fairy King for Queen\n",
      "\u001b[32m2022-03-13 20:36:53\u001b[0m - \u001b[34mLyrix\u001b[0m - \u001b[1;37mINFO\u001b[0m - successfully got White Queen (As It Began) for Queen\n",
      "\u001b[32m2022-03-13 20:36:53\u001b[0m - \u001b[34mLyrix\u001b[0m - \u001b[1;37mINFO\u001b[0m - successfully got Seven Seas of Rhye for Queen\n",
      "\u001b[32m2022-03-13 20:36:53\u001b[0m - \u001b[34mLyrix\u001b[0m - \u001b[1;37mINFO\u001b[0m - successfully got Great King Rat for Queen\n",
      "\u001b[32m2022-03-13 20:36:53\u001b[0m - \u001b[34mLyrix\u001b[0m - \u001b[1;37mINFO\u001b[0m - successfully got Modern Times Rock 'n' Roll for Queen\n",
      "\u001b[32m2022-03-13 20:36:53\u001b[0m - \u001b[34mLyrix\u001b[0m - \u001b[1;37mINFO\u001b[0m - successfully got Stone Cold Crazy for Queen\n",
      "\u001b[32m2022-03-13 20:36:55\u001b[0m - \u001b[34mLyrix\u001b[0m - \u001b[1;37mINFO\u001b[0m - successfully got Procession for Queen\n",
      "\u001b[32m2022-03-13 20:36:55\u001b[0m - \u001b[34mLyrix\u001b[0m - \u001b[1;37mINFO\u001b[0m - successfully got Flick Of The Wrist for Queen\n",
      "\u001b[32m2022-03-13 20:36:55\u001b[0m - \u001b[34mLyrix\u001b[0m - \u001b[1;37mINFO\u001b[0m - successfully got Guitar Solo for Queen\n",
      "\u001b[32m2022-03-13 20:36:55\u001b[0m - \u001b[34mLyrix\u001b[0m - \u001b[1;37mINFO\u001b[0m - successfully got Son and Daughter for Queen\n",
      "\u001b[32m2022-03-13 20:36:55\u001b[0m - \u001b[34mLyrix\u001b[0m - \u001b[1;37mINFO\u001b[0m - successfully got Tenement Funster for Queen\n",
      "\u001b[32m2022-03-13 20:36:55\u001b[0m - \u001b[34mLyrix\u001b[0m - \u001b[1;37mINFO\u001b[0m - successfully got The March of the Black Queen for Queen\n",
      "\u001b[32m2022-03-13 20:36:55\u001b[0m - \u001b[34mLyrix\u001b[0m - \u001b[1;37mINFO\u001b[0m - successfully got My Melancholy Blues for Queen\n",
      "\u001b[32m2022-03-13 20:36:55\u001b[0m - \u001b[34mLyrix\u001b[0m - \u001b[1;37mINFO\u001b[0m - successfully got Spread Your Wings for Queen\n",
      "\u001b[32m2022-03-13 20:36:55\u001b[0m - \u001b[34mLyrix\u001b[0m - \u001b[1;37mINFO\u001b[0m - successfully got It's Late for Queen\n",
      "\u001b[32m2022-03-13 20:36:58\u001b[0m - \u001b[34mLyrix\u001b[0m - \u001b[1;37mINFO\u001b[0m - successfully got (You're So Square) Baby I Don't Care for Queen\n",
      "\u001b[32m2022-03-13 20:36:58\u001b[0m - \u001b[34mLyrix\u001b[0m - \u001b[1;37mINFO\u001b[0m - successfully got Tie Your Mother Down for Queen\n",
      "\u001b[32m2022-03-13 20:36:58\u001b[0m - \u001b[34mLyrix\u001b[0m - \u001b[1;37mINFO\u001b[0m - successfully got Big Spender for Queen\n",
      "\u001b[32m2022-03-13 20:36:58\u001b[0m - \u001b[34mLyrix\u001b[0m - \u001b[1;37mINFO\u001b[0m - successfully got Keep Yourself Alive (Reprise) for Queen\n",
      "\u001b[32m2022-03-13 20:36:58\u001b[0m - \u001b[34mLyrix\u001b[0m - \u001b[1;37mINFO\u001b[0m - successfully got Bring Back That Leroy Brown for Queen\n",
      "\u001b[32m2022-03-13 20:37:01\u001b[0m - \u001b[34mLyrix\u001b[0m - \u001b[1;37mINFO\u001b[0m - successfully got God Save The Queen for Queen\n",
      "\u001b[32m2022-03-13 20:37:01\u001b[0m - \u001b[34mLyrix\u001b[0m - \u001b[1;37mINFO\u001b[0m - successfully got See What a Fool I've Been for Queen\n",
      "\u001b[32m2022-03-13 20:37:01\u001b[0m - \u001b[34mLyrix\u001b[0m - \u001b[1;37mINFO\u001b[0m - successfully got Son And Daughter (Reprise) for Queen\n",
      "\u001b[32m2022-03-13 20:37:01\u001b[0m - \u001b[34mLyrix\u001b[0m - \u001b[1;37mINFO\u001b[0m - successfully got Jailhouse Rock for Queen\n",
      "\u001b[32m2022-03-13 20:37:01\u001b[0m - \u001b[34mLyrix\u001b[0m - \u001b[1;37mINFO\u001b[0m - successfully got Father To Son for Queen\n",
      "\u001b[32m2022-03-13 20:37:01\u001b[0m - \u001b[34mLyrix\u001b[0m - \u001b[1;37mINFO\u001b[0m - successfully got Brighton Rock for Queen\n",
      "\u001b[32m2022-03-13 20:37:01\u001b[0m - \u001b[34mLyrix\u001b[0m - \u001b[1;37mINFO\u001b[0m - successfully got Is This The World We Created...? for Queen\n",
      "\u001b[32m2022-03-13 20:37:01\u001b[0m - \u001b[34mLyrix\u001b[0m - \u001b[1;37mINFO\u001b[0m - successfully got In The Lap Of The Gods...Revisited for Queen\n",
      "\u001b[32m2022-03-13 20:37:01\u001b[0m - \u001b[34mLyrix\u001b[0m - \u001b[1;37mINFO\u001b[0m - successfully got In The Lap Of The Gods... Revisited for Queen\n"
     ]
    },
    {
     "name": "stderr",
     "output_type": "stream",
     "text": [
      "\u001b[32m2022-03-13 20:37:01\u001b[0m - \u001b[34mLyrix\u001b[0m - \u001b[1;37mINFO\u001b[0m - successfully got The March Of The Black Queen for Queen\n",
      "\u001b[32m2022-03-13 20:37:01\u001b[0m - \u001b[34mLyrix\u001b[0m - \u001b[1;37mINFO\u001b[0m - successfully got Seven Seas Of Rhye for Queen\n",
      "\u001b[32m2022-03-13 20:37:01\u001b[0m - \u001b[34mLyrix\u001b[0m - \u001b[1;37mINFO\u001b[0m - successfully got In The Lap Of The Gods for Queen\n",
      "\u001b[32m2022-03-13 20:37:04\u001b[0m - \u001b[34mLyrix\u001b[0m - \u001b[1;37mINFO\u001b[0m - successfully got Back Chat for Queen\n",
      "\u001b[32m2022-03-13 20:37:04\u001b[0m - \u001b[34mLyrix\u001b[0m - \u001b[1;37mINFO\u001b[0m - successfully got Tutti Frutti for Queen\n",
      "\u001b[32m2022-03-13 20:37:04\u001b[0m - \u001b[34mLyrix\u001b[0m - \u001b[1;37mINFO\u001b[0m - successfully got Hello Mary Lou (Goodbye Heart) for Queen\n",
      "\u001b[32m2022-03-13 20:37:04\u001b[0m - \u001b[34mLyrix\u001b[0m - \u001b[1;37mINFO\u001b[0m - successfully got Small for Queen\n",
      "\u001b[32m2022-03-13 20:37:04\u001b[0m - \u001b[34mLyrix\u001b[0m - \u001b[1;37mINFO\u001b[0m - successfully got Let Me Entertain You for Queen\n",
      "\u001b[32m2022-03-13 20:37:04\u001b[0m - \u001b[34mLyrix\u001b[0m - \u001b[1;37mINFO\u001b[0m - successfully got A Kind Of Magic for Queen\n",
      "\u001b[32m2022-03-13 20:37:04\u001b[0m - \u001b[34mLyrix\u001b[0m - \u001b[1;37mINFO\u001b[0m - successfully got Say It's Not True for Queen\n",
      "\u001b[32m2022-03-13 20:37:04\u001b[0m - \u001b[34mLyrix\u001b[0m - \u001b[1;37mINFO\u001b[0m - successfully got Time To Shine for Queen\n",
      "\u001b[32m2022-03-13 20:37:04\u001b[0m - \u001b[34mLyrix\u001b[0m - \u001b[1;37mINFO\u001b[0m - successfully got Warboys for Queen\n",
      "\u001b[32m2022-03-13 20:37:04\u001b[0m - \u001b[34mLyrix\u001b[0m - \u001b[1;37mINFO\u001b[0m - successfully got We Believe for Queen\n",
      "\u001b[32m2022-03-13 20:37:04\u001b[0m - \u001b[34mLyrix\u001b[0m - \u001b[1;37mINFO\u001b[0m - successfully got I'm In Love With My Car for Queen\n",
      "\u001b[32m2022-03-13 20:37:04\u001b[0m - \u001b[34mLyrix\u001b[0m - \u001b[1;37mINFO\u001b[0m - successfully got Now I'm Here (Reprise) for Queen\n",
      "\u001b[32m2022-03-13 20:37:04\u001b[0m - \u001b[34mLyrix\u001b[0m - \u001b[1;37mINFO\u001b[0m - successfully got Cosmos Rockin' for Queen\n",
      "\u001b[32m2022-03-13 20:37:04\u001b[0m - \u001b[34mLyrix\u001b[0m - \u001b[1;37mINFO\u001b[0m - successfully got Friends Will Be Friends for Queen\n",
      "\u001b[32m2022-03-13 20:37:04\u001b[0m - \u001b[34mLyrix\u001b[0m - \u001b[1;37mINFO\u001b[0m - successfully got small reprise for Queen\n",
      "\u001b[32m2022-03-13 20:37:04\u001b[0m - \u001b[34mLyrix\u001b[0m - \u001b[1;37mINFO\u001b[0m - successfully got C-lebrity for Queen\n",
      "\u001b[32m2022-03-13 20:37:04\u001b[0m - \u001b[34mLyrix\u001b[0m - \u001b[1;37mINFO\u001b[0m - successfully got Call Me for Queen\n",
      "\u001b[32m2022-03-13 20:37:04\u001b[0m - \u001b[34mLyrix\u001b[0m - \u001b[1;37mINFO\u001b[0m - successfully got Through The Night for Queen\n",
      "\u001b[32m2022-03-13 20:37:04\u001b[0m - \u001b[34mLyrix\u001b[0m - \u001b[1;37mINFO\u001b[0m - successfully got Voodoo for Queen\n",
      "\u001b[32m2022-03-13 20:37:04\u001b[0m - \u001b[34mLyrix\u001b[0m - \u001b[1;37mINFO\u001b[0m - successfully got Still Burnin' for Queen\n",
      "\u001b[32m2022-03-13 20:37:04\u001b[0m - \u001b[34mLyrix\u001b[0m - \u001b[1;37mINFO\u001b[0m - successfully got Sheer Heart Attack for Queen\n",
      "\u001b[32m2022-03-13 20:37:04\u001b[0m - \u001b[34mLyrix\u001b[0m - \u001b[1;37mWARNING\u001b[0m - \u001b[33mfailed to get lyrics for Ay-Ohs\u001b[0m\n",
      "\u001b[32m2022-03-13 20:37:08\u001b[0m - \u001b[34mLyrix\u001b[0m - \u001b[1;37mINFO\u001b[0m - successfully got Save Me for Queen\n",
      "\u001b[32m2022-03-13 20:37:08\u001b[0m - \u001b[34mLyrix\u001b[0m - \u001b[1;37mINFO\u001b[0m - successfully got Some Things That Glitter for Queen\n",
      "\u001b[32m2022-03-13 20:37:08\u001b[0m - \u001b[34mLyrix\u001b[0m - \u001b[1;37mINFO\u001b[0m - successfully got A Winter's Tale for Queen\n",
      "\u001b[32m2022-03-13 20:37:08\u001b[0m - \u001b[34mLyrix\u001b[0m - \u001b[1;37mINFO\u001b[0m - successfully got Play The Game for Queen\n",
      "\u001b[32m2022-03-13 20:37:08\u001b[0m - \u001b[34mLyrix\u001b[0m - \u001b[1;37mINFO\u001b[0m - successfully got Dragon Attack for Queen\n",
      "\u001b[32m2022-03-13 20:37:08\u001b[0m - \u001b[34mLyrix\u001b[0m - \u001b[1;37mINFO\u001b[0m - successfully got It's A Beautiful Day for Queen\n",
      "\u001b[32m2022-03-13 20:37:08\u001b[0m - \u001b[34mLyrix\u001b[0m - \u001b[1;37mINFO\u001b[0m - successfully got You Don't Fool Me for Queen\n",
      "\u001b[32m2022-03-13 20:37:08\u001b[0m - \u001b[34mLyrix\u001b[0m - \u001b[1;37mWARNING\u001b[0m - \u001b[33mfailed to get lyrics for In the Lap of the Gods... Revisited\u001b[0m\n",
      "\u001b[32m2022-03-13 20:37:08\u001b[0m - \u001b[34mLyrix\u001b[0m - \u001b[1;37mINFO\u001b[0m - successfully got Somebody to Love for Queen\n",
      "\u001b[32m2022-03-13 20:37:10\u001b[0m - \u001b[34mLyrix\u001b[0m - \u001b[1;37mINFO\u001b[0m - successfully got Action This Day for Queen\n",
      "\u001b[32m2022-03-13 20:37:10\u001b[0m - \u001b[34mLyrix\u001b[0m - \u001b[1;37mINFO\u001b[0m - successfully got Made In Heaven for Queen\n",
      "\u001b[32m2022-03-13 20:37:10\u001b[0m - \u001b[34mLyrix\u001b[0m - \u001b[1;37mINFO\u001b[0m - successfully got Let Me Live for Queen\n",
      "\u001b[32m2022-03-13 20:37:10\u001b[0m - \u001b[34mLyrix\u001b[0m - \u001b[1;37mINFO\u001b[0m - successfully got Drum And Tympani Solo for Queen\n",
      "\u001b[32m2022-03-13 20:37:10\u001b[0m - \u001b[34mLyrix\u001b[0m - \u001b[1;37mINFO\u001b[0m - successfully got These Are The Days Of Our Lives for Queen\n",
      "\u001b[32m2022-03-13 20:37:10\u001b[0m - \u001b[34mLyrix\u001b[0m - \u001b[1;37mINFO\u001b[0m - successfully got My Life Has Been Saved for Queen\n",
      "\u001b[32m2022-03-13 20:37:10\u001b[0m - \u001b[34mLyrix\u001b[0m - \u001b[1;37mINFO\u001b[0m - successfully got It's A Beautiful Day (Reprise) for Queen\n",
      "\u001b[32m2022-03-13 20:37:10\u001b[0m - \u001b[34mLyrix\u001b[0m - \u001b[1;37mINFO\u001b[0m - successfully got God Save the Queen for Queen\n",
      "\u001b[32m2022-03-13 20:37:10\u001b[0m - \u001b[34mLyrix\u001b[0m - \u001b[1;37mINFO\u001b[0m - successfully got Love of My Life for Queen\n",
      "\u001b[32m2022-03-13 20:37:10\u001b[0m - \u001b[34mLyrix\u001b[0m - \u001b[1;37mINFO\u001b[0m - successfully got Untitled for Queen\n",
      "\u001b[32m2022-03-13 20:37:10\u001b[0m - \u001b[34mLyrix\u001b[0m - \u001b[1;37mINFO\u001b[0m - successfully got Too Much Love Will Kill You for Queen\n",
      "\u001b[32m2022-03-13 20:37:10\u001b[0m - \u001b[34mLyrix\u001b[0m - \u001b[1;37mINFO\u001b[0m - successfully got I Want It All for Queen\n",
      "\u001b[32m2022-03-13 20:37:10\u001b[0m - \u001b[34mLyrix\u001b[0m - \u001b[1;37mINFO\u001b[0m - successfully got The Hero for Queen\n",
      "\u001b[32m2022-03-13 20:37:10\u001b[0m - \u001b[34mLyrix\u001b[0m - \u001b[1;37mINFO\u001b[0m - successfully got Heaven For Everyone for Queen\n",
      "\u001b[32m2022-03-13 20:37:10\u001b[0m - \u001b[34mLyrix\u001b[0m - \u001b[1;37mINFO\u001b[0m - successfully got Flash for Queen\n",
      "\u001b[32m2022-03-13 20:37:10\u001b[0m - \u001b[34mLyrix\u001b[0m - \u001b[1;37mINFO\u001b[0m - successfully got Intro for Queen\n",
      "\u001b[32m2022-03-13 20:37:10\u001b[0m - \u001b[34mLyrix\u001b[0m - \u001b[1;37mINFO\u001b[0m - successfully got Staying Power for Queen\n",
      "\u001b[32m2022-03-13 20:37:10\u001b[0m - \u001b[34mLyrix\u001b[0m - \u001b[1;37mINFO\u001b[0m - successfully got Mother Love for Queen\n",
      "\u001b[32m2022-03-13 20:37:12\u001b[0m - \u001b[34mLyrix\u001b[0m - \u001b[1;37mINFO\u001b[0m - successfully got '39 for Queen\n",
      "\u001b[32m2022-03-13 20:37:12\u001b[0m - \u001b[34mLyrix\u001b[0m - \u001b[1;37mINFO\u001b[0m - successfully got We Are the Champions for Queen\n",
      "\u001b[32m2022-03-13 20:37:12\u001b[0m - \u001b[34mLyrix\u001b[0m - \u001b[1;37mINFO\u001b[0m - successfully got Play the Game for Queen\n",
      "\u001b[32m2022-03-13 20:37:13\u001b[0m - \u001b[34mLyrix\u001b[0m - \u001b[1;37mWARNING\u001b[0m - \u001b[33mfailed to get lyrics for Jailhouse Rock Medley\u001b[0m\n",
      "\u001b[32m2022-03-13 20:37:13\u001b[0m - \u001b[34mLyrix\u001b[0m - \u001b[1;37mWARNING\u001b[0m - \u001b[33mfailed to get lyrics for Drum Solo\u001b[0m\n",
      "\u001b[32m2022-03-13 20:37:13\u001b[0m - \u001b[34mLyrix\u001b[0m - \u001b[1;37mWARNING\u001b[0m - \u001b[33mfailed to get lyrics for The Fairy Feller's Master-Stroke\u001b[0m\n",
      "\u001b[32m2022-03-13 20:37:15\u001b[0m - \u001b[34mLyrix\u001b[0m - \u001b[1;37mWARNING\u001b[0m - \u001b[33mfailed to get lyrics for Looks Like It's Gonna Be A Good Night\u001b[0m\n",
      "\u001b[32m2022-03-13 20:37:15\u001b[0m - \u001b[34mLyrix\u001b[0m - \u001b[1;37mWARNING\u001b[0m - \u001b[33mfailed to get lyrics for Tavaszi Szel Vizet Araszt\u001b[0m\n",
      "\u001b[32m2022-03-13 20:37:17\u001b[0m - \u001b[34mLyrix\u001b[0m - \u001b[1;37mWARNING\u001b[0m - \u001b[33mfailed to get lyrics for Get Down, Make Love\u001b[0m\n",
      "\u001b[32m2022-03-13 20:37:17\u001b[0m - \u001b[34mLyrix\u001b[0m - \u001b[1;37mWARNING\u001b[0m - \u001b[33mfailed to get lyrics for Let There Be Drums\u001b[0m\n",
      "\u001b[32m2022-03-13 20:37:17\u001b[0m - \u001b[34mLyrix\u001b[0m - \u001b[1;37mWARNING\u001b[0m - \u001b[33mfailed to get lyrics for Can't Get Enough\u001b[0m\n",
      "\u001b[32m2022-03-13 20:37:18\u001b[0m - \u001b[34mLyrix\u001b[0m - \u001b[1;37mWARNING\u001b[0m - \u001b[33mfailed to get lyrics for Last Horizon\u001b[0m\n",
      "\u001b[32m2022-03-13 20:37:18\u001b[0m - \u001b[34mLyrix\u001b[0m - \u001b[1;37mWARNING\u001b[0m - \u001b[33mfailed to get lyrics for Feel Like Makin' Love\u001b[0m\n",
      "\u001b[32m2022-03-13 20:37:18\u001b[0m - \u001b[34mLyrix\u001b[0m - \u001b[1;37mWARNING\u001b[0m - \u001b[33mfailed to get lyrics for Surf's Up...School's Out\u001b[0m\n",
      "\u001b[32m2022-03-13 20:37:18\u001b[0m - \u001b[34mLyrix\u001b[0m - \u001b[1;37mWARNING\u001b[0m - \u001b[33mfailed to get lyrics for Reaching Out\u001b[0m\n",
      "\u001b[32m2022-03-13 20:37:18\u001b[0m - \u001b[34mLyrix\u001b[0m - \u001b[1;37mWARNING\u001b[0m - \u001b[33mfailed to get lyrics for All Right Now\u001b[0m\n",
      "\u001b[32m2022-03-13 20:37:18\u001b[0m - \u001b[34mLyrix\u001b[0m - \u001b[1;37mWARNING\u001b[0m - \u001b[33mfailed to get lyrics for Get Down Make Love\u001b[0m\n",
      "\u001b[32m2022-03-13 20:37:18\u001b[0m - \u001b[34mLyrix\u001b[0m - \u001b[1;37mWARNING\u001b[0m - \u001b[33mfailed to get lyrics for Wishing Well\u001b[0m\n",
      "\u001b[32m2022-03-13 20:37:18\u001b[0m - \u001b[34mLyrix\u001b[0m - \u001b[1;37mWARNING\u001b[0m - \u001b[33mfailed to get lyrics for Yeah\u001b[0m\n"
     ]
    },
    {
     "data": {
      "text/plain": [
       "{'nsongs': 132,\n",
       " 'nsongs_lyrics_found': 109,\n",
       " 'number_of_words': {'mean': 225.64,\n",
       "  'std': 106.4,\n",
       "  'variance': 11320.82,\n",
       "  'min': {'value': 1, 'song': '20th Century Fox Fanfare'},\n",
       "  'max': {'value': 451, 'song': 'The March of the Black Queen'}}}"
      ]
     },
     "execution_count": 4,
     "metadata": {},
     "output_type": "execute_result"
    }
   ],
   "source": [
    "queen = lyrix.get('Queen')\n",
    "queen.stats"
   ]
  },
  {
   "cell_type": "markdown",
   "id": "relevant-garlic",
   "metadata": {},
   "source": [
    "This data is also stored (cached) within the class instance:"
   ]
  },
  {
   "cell_type": "code",
   "execution_count": 5,
   "id": "atlantic-jefferson",
   "metadata": {},
   "outputs": [
    {
     "data": {
      "text/plain": [
       "dict_keys(['Queen'])"
      ]
     },
     "execution_count": 5,
     "metadata": {},
     "output_type": "execute_result"
    }
   ],
   "source": [
    "lyrix.keys()"
   ]
  },
  {
   "cell_type": "code",
   "execution_count": 6,
   "id": "demanding-kidney",
   "metadata": {},
   "outputs": [
    {
     "data": {
      "text/plain": [
       "225.64"
      ]
     },
     "execution_count": 6,
     "metadata": {},
     "output_type": "execute_result"
    }
   ],
   "source": [
    "lyrix['Queen'].stats['number_of_words']['mean']"
   ]
  },
  {
   "cell_type": "markdown",
   "id": "equipped-commonwealth",
   "metadata": {},
   "source": [
    "## Retrieve additional data\n",
    "\n",
    "additional artists can also be retrieved and saved in the same instance:"
   ]
  },
  {
   "cell_type": "code",
   "execution_count": 7,
   "id": "civilian-cookie",
   "metadata": {
    "scrolled": false
   },
   "outputs": [
    {
     "name": "stderr",
     "output_type": "stream",
     "text": [
      "\u001b[32m2022-03-13 20:37:18\u001b[0m - \u001b[34mLyrix\u001b[0m - \u001b[1;37mWARNING\u001b[0m - \u001b[33mfound multiple artists: [('The Beatles', '3WrFJ7ztbogyGnTHbHJFl2'), ('The Beatles Complete On Ukulele', '5o723EMxNulM5ydXRh7Qkk'), ('The Beatles Recovered Band', '0WQ4jRVGAgNcYI3PmKfcbu'), ('Tony Sheridan', '3muGwkg7cEbK52vzp76J38'), ('I Hate The Beatles', '5Pi3viYqawZx95Gan2dyC3'), ('The Beatles Revival Band', '3Jee0nDYfCqDBV98n5gLhY'), ('beatles', '3YojAkU7hiAalEunJy55JW'), ('The New Beatles', '3vuYd8ifdPWL3TgjPXgfgF'), ('Barack Obama with The Beatles Complete On Ukulele Community Choir', '1c4dcJh2dBjZgPDLid6Cxl'), ('The Silver Beatles', '5WTOPRu5W51m3TEU4BupIR'), ('Better Than The Beatles', '5qW4j3RXhL3aRytG86jLtW'), ('the beatles featuring mark pearson', '4PCfEqDs3CzWQu4l98pBIR'), ('The Next Beatless', '34bwz4upLrOrv0LKia3ML4'), ('The Norwegian Beatles', '6ea6bBvg2oAmtRJ5aHRATP'), ('The Tape-beatles', '1UarLtyjvxGiRTsfFXxtnA'), ('The Beatles Tribute Band', '0rhGLV687CCwGfeJYXd176'), ('The Beatles Recovered Band', '3cBV24PM5nZsXqopSHvdtS'), ('The Beatles Tribute Project', '7EzNTMzMN70jRxBWbxeshd'), ('The Beatles Greatest Hits Performed By The Frank Berman Band', '36QpVbYALWlz5NtMI3LhiV'), ('The Beatles Symphony Orchestra', '7F4QQowQM3dIGKOCrrMJKd')]. Using the first!\u001b[0m\n",
      "\u001b[32m2022-03-13 20:37:18\u001b[0m - \u001b[34mLyrix\u001b[0m - \u001b[1;37mINFO\u001b[0m - found the artist 'The Beatles' with id=3WrFJ7ztbogyGnTHbHJFl2\n",
      "\u001b[32m2022-03-13 20:37:19\u001b[0m - \u001b[34mLyrix\u001b[0m - \u001b[1;37mINFO\u001b[0m - found 20 albums\n",
      "\u001b[32m2022-03-13 20:37:19\u001b[0m - \u001b[34mLyrix\u001b[0m - \u001b[1;37mINFO\u001b[0m - found 246 songs\n",
      "\u001b[32m2022-03-13 20:37:21\u001b[0m - \u001b[34mLyrix\u001b[0m - \u001b[1;37mWARNING\u001b[0m - \u001b[33mfailed to get lyrics for Because\u001b[0m\n",
      "\u001b[32m2022-03-13 20:37:22\u001b[0m - \u001b[34mLyrix\u001b[0m - \u001b[1;37mWARNING\u001b[0m - \u001b[33mfailed to get lyrics for Maggie Mae / Fancy My Chances With You\u001b[0m\n",
      "\u001b[32m2022-03-13 20:37:22\u001b[0m - \u001b[34mLyrix\u001b[0m - \u001b[1;37mWARNING\u001b[0m - \u001b[33mfailed to get lyrics for Concentrate On The Sound\u001b[0m\n",
      "\u001b[32m2022-03-13 20:37:22\u001b[0m - \u001b[34mLyrix\u001b[0m - \u001b[1;37mWARNING\u001b[0m - \u001b[33mfailed to get lyrics for Wake Up Little Susie / I Me Mine\u001b[0m\n",
      "\u001b[32m2022-03-13 20:37:22\u001b[0m - \u001b[34mLyrix\u001b[0m - \u001b[1;37mWARNING\u001b[0m - \u001b[33mfailed to get lyrics for Medley: I’m Ready (aka Rocker) / Save The Last Dance For Me / Don’t Let Me Down\u001b[0m\n",
      "\u001b[32m2022-03-13 20:37:22\u001b[0m - \u001b[34mLyrix\u001b[0m - \u001b[1;37mWARNING\u001b[0m - \u001b[33mfailed to get lyrics for Let It Be / Please Please Me / Let It Be\u001b[0m\n",
      "\u001b[32m2022-03-13 20:37:22\u001b[0m - \u001b[34mLyrix\u001b[0m - \u001b[1;37mWARNING\u001b[0m - \u001b[33mfailed to get lyrics for Morning Camera / Two Of Us\u001b[0m\n",
      "\u001b[32m2022-03-13 20:37:22\u001b[0m - \u001b[34mLyrix\u001b[0m - \u001b[1;37mWARNING\u001b[0m - \u001b[33mfailed to get lyrics for On The Day Shift Now / All Things Must Pass\u001b[0m\n",
      "\u001b[32m2022-03-13 20:37:22\u001b[0m - \u001b[34mLyrix\u001b[0m - \u001b[1;37mWARNING\u001b[0m - \u001b[33mfailed to get lyrics for Roll Over Beethoven\u001b[0m\n",
      "\u001b[32m2022-03-13 20:37:24\u001b[0m - \u001b[34mLyrix\u001b[0m - \u001b[1;37mWARNING\u001b[0m - \u001b[33mfailed to get lyrics for Old Brown Shoe\u001b[0m\n",
      "\u001b[32m2022-03-13 20:37:25\u001b[0m - \u001b[34mLyrix\u001b[0m - \u001b[1;37mWARNING\u001b[0m - \u001b[33mfailed to get lyrics for Golden Slumbers / Carry That Weight\u001b[0m\n",
      "\u001b[32m2022-03-13 20:37:26\u001b[0m - \u001b[34mLyrix\u001b[0m - \u001b[1;37mWARNING\u001b[0m - \u001b[33mfailed to get lyrics for Things We Said Today\u001b[0m\n",
      "\u001b[32m2022-03-13 20:37:26\u001b[0m - \u001b[34mLyrix\u001b[0m - \u001b[1;37mWARNING\u001b[0m - \u001b[33mfailed to get lyrics for Wild Honey Pie\u001b[0m\n",
      "\u001b[32m2022-03-13 20:37:29\u001b[0m - \u001b[34mLyrix\u001b[0m - \u001b[1;37mWARNING\u001b[0m - \u001b[33mfailed to get lyrics for Sgt Pepper's Lonely Hearts Club Band\u001b[0m\n",
      "\u001b[32m2022-03-13 20:37:29\u001b[0m - \u001b[34mLyrix\u001b[0m - \u001b[1;37mWARNING\u001b[0m - \u001b[33mfailed to get lyrics for Anna (Go To Him)\u001b[0m\n",
      "\u001b[32m2022-03-13 20:37:29\u001b[0m - \u001b[34mLyrix\u001b[0m - \u001b[1;37mWARNING\u001b[0m - \u001b[33mfailed to get lyrics for Do You Want To Know A Secret\u001b[0m\n",
      "\u001b[32m2022-03-13 20:37:29\u001b[0m - \u001b[34mLyrix\u001b[0m - \u001b[1;37mWARNING\u001b[0m - \u001b[33mfailed to get lyrics for Lift Lid Again\u001b[0m\n",
      "\u001b[32m2022-03-13 20:37:32\u001b[0m - \u001b[34mLyrix\u001b[0m - \u001b[1;37mWARNING\u001b[0m - \u001b[33mfailed to get lyrics for Love Me Do\u001b[0m\n",
      "\u001b[32m2022-03-13 20:37:32\u001b[0m - \u001b[34mLyrix\u001b[0m - \u001b[1;37mWARNING\u001b[0m - \u001b[33mfailed to get lyrics for Ticket To Ride\u001b[0m\n",
      "\u001b[32m2022-03-13 20:37:37\u001b[0m - \u001b[34mLyrix\u001b[0m - \u001b[1;37mINFO\u001b[0m - successfully got Two Of Us for The Beatles\n",
      "\u001b[32m2022-03-13 20:37:40\u001b[0m - \u001b[34mLyrix\u001b[0m - \u001b[1;37mINFO\u001b[0m - successfully got I Me Mine for The Beatles\n",
      "\u001b[32m2022-03-13 20:37:40\u001b[0m - \u001b[34mLyrix\u001b[0m - \u001b[1;37mINFO\u001b[0m - successfully got For You Blue for The Beatles\n",
      "\u001b[32m2022-03-13 20:37:40\u001b[0m - \u001b[34mLyrix\u001b[0m - \u001b[1;37mINFO\u001b[0m - successfully got She Came In Through The Bathroom Window for The Beatles\n",
      "\u001b[32m2022-03-13 20:37:40\u001b[0m - \u001b[34mLyrix\u001b[0m - \u001b[1;37mINFO\u001b[0m - successfully got She's A Woman for The Beatles\n",
      "\u001b[32m2022-03-13 20:37:40\u001b[0m - \u001b[34mLyrix\u001b[0m - \u001b[1;37mINFO\u001b[0m - successfully got Let It Be for The Beatles\n",
      "\u001b[32m2022-03-13 20:37:40\u001b[0m - \u001b[34mLyrix\u001b[0m - \u001b[1;37mINFO\u001b[0m - successfully got Piggies for The Beatles\n",
      "\u001b[32m2022-03-13 20:37:40\u001b[0m - \u001b[34mLyrix\u001b[0m - \u001b[1;37mINFO\u001b[0m - successfully got I Want You (She's So Heavy) for The Beatles\n",
      "\u001b[32m2022-03-13 20:37:40\u001b[0m - \u001b[34mLyrix\u001b[0m - \u001b[1;37mINFO\u001b[0m - successfully got Get Back for The Beatles\n",
      "\u001b[32m2022-03-13 20:37:40\u001b[0m - \u001b[34mLyrix\u001b[0m - \u001b[1;37mINFO\u001b[0m - successfully got Why Don't We Do It In The Road? for The Beatles\n",
      "\u001b[32m2022-03-13 20:37:40\u001b[0m - \u001b[34mLyrix\u001b[0m - \u001b[1;37mINFO\u001b[0m - successfully got Don’t Let Me Down for The Beatles\n",
      "\u001b[32m2022-03-13 20:37:40\u001b[0m - \u001b[34mLyrix\u001b[0m - \u001b[1;37mINFO\u001b[0m - successfully got Dig A Pony for The Beatles\n",
      "\u001b[32m2022-03-13 20:37:40\u001b[0m - \u001b[34mLyrix\u001b[0m - \u001b[1;37mINFO\u001b[0m - successfully got Don't Let Me Down for The Beatles\n",
      "\u001b[32m2022-03-13 20:37:40\u001b[0m - \u001b[34mLyrix\u001b[0m - \u001b[1;37mINFO\u001b[0m - successfully got Maxwell's Silver Hammer for The Beatles\n",
      "\u001b[32m2022-03-13 20:37:40\u001b[0m - \u001b[34mLyrix\u001b[0m - \u001b[1;37mINFO\u001b[0m - successfully got I've Got A Feeling for The Beatles\n",
      "\u001b[32m2022-03-13 20:37:40\u001b[0m - \u001b[34mLyrix\u001b[0m - \u001b[1;37mINFO\u001b[0m - successfully got Golden Slumbers for The Beatles\n",
      "\u001b[32m2022-03-13 20:37:41\u001b[0m - \u001b[34mLyrix\u001b[0m - \u001b[1;37mWARNING\u001b[0m - \u001b[33mfailed to get lyrics for And Here We Are Again\u001b[0m\n",
      "\u001b[32m2022-03-13 20:37:41\u001b[0m - \u001b[34mLyrix\u001b[0m - \u001b[1;37mWARNING\u001b[0m - \u001b[33mfailed to get lyrics for I Wanna Be Your Man\u001b[0m\n",
      "\u001b[32m2022-03-13 20:37:43\u001b[0m - \u001b[34mLyrix\u001b[0m - \u001b[1;37mINFO\u001b[0m - successfully got The Long And Winding Road for The Beatles\n",
      "\u001b[32m2022-03-13 20:37:43\u001b[0m - \u001b[34mLyrix\u001b[0m - \u001b[1;37mINFO\u001b[0m - successfully got One After 909 for The Beatles\n",
      "\u001b[32m2022-03-13 20:37:43\u001b[0m - \u001b[34mLyrix\u001b[0m - \u001b[1;37mINFO\u001b[0m - successfully got I’ve Got A Feeling for The Beatles\n",
      "\u001b[32m2022-03-13 20:37:43\u001b[0m - \u001b[34mLyrix\u001b[0m - \u001b[1;37mINFO\u001b[0m - successfully got Come Together for The Beatles\n",
      "\u001b[32m2022-03-13 20:37:43\u001b[0m - \u001b[34mLyrix\u001b[0m - \u001b[1;37mINFO\u001b[0m - successfully got Polythene Pam for The Beatles\n",
      "\u001b[32m2022-03-13 20:37:43\u001b[0m - \u001b[34mLyrix\u001b[0m - \u001b[1;37mINFO\u001b[0m - successfully got Dig It for The Beatles\n",
      "\u001b[32m2022-03-13 20:37:43\u001b[0m - \u001b[34mLyrix\u001b[0m - \u001b[1;37mINFO\u001b[0m - successfully got Boys for The Beatles\n",
      "\u001b[32m2022-03-13 20:37:43\u001b[0m - \u001b[34mLyrix\u001b[0m - \u001b[1;37mINFO\u001b[0m - successfully got Birthday for The Beatles\n",
      "\u001b[32m2022-03-13 20:37:43\u001b[0m - \u001b[34mLyrix\u001b[0m - \u001b[1;37mINFO\u001b[0m - successfully got Come And Get It for The Beatles\n",
      "\u001b[32m2022-03-13 20:37:43\u001b[0m - \u001b[34mLyrix\u001b[0m - \u001b[1;37mINFO\u001b[0m - successfully got Maggie Mae for The Beatles\n",
      "\u001b[32m2022-03-13 20:37:43\u001b[0m - \u001b[34mLyrix\u001b[0m - \u001b[1;37mINFO\u001b[0m - successfully got You Can't Do That for The Beatles\n",
      "\u001b[32m2022-03-13 20:37:43\u001b[0m - \u001b[34mLyrix\u001b[0m - \u001b[1;37mINFO\u001b[0m - successfully got Twist And Shout for The Beatles\n",
      "\u001b[32m2022-03-13 20:37:43\u001b[0m - \u001b[34mLyrix\u001b[0m - \u001b[1;37mINFO\u001b[0m - successfully got Dear Prudence for The Beatles\n",
      "\u001b[32m2022-03-13 20:37:43\u001b[0m - \u001b[34mLyrix\u001b[0m - \u001b[1;37mINFO\u001b[0m - successfully got The End for The Beatles\n",
      "\u001b[32m2022-03-13 20:37:43\u001b[0m - \u001b[34mLyrix\u001b[0m - \u001b[1;37mINFO\u001b[0m - successfully got Happiness Is A Warm Gun for The Beatles\n",
      "\u001b[32m2022-03-13 20:37:43\u001b[0m - \u001b[34mLyrix\u001b[0m - \u001b[1;37mINFO\u001b[0m - successfully got Glass Onion for The Beatles\n",
      "\u001b[32m2022-03-13 20:37:43\u001b[0m - \u001b[34mLyrix\u001b[0m - \u001b[1;37mINFO\u001b[0m - successfully got Mother Nature's Son for The Beatles\n",
      "\u001b[32m2022-03-13 20:37:43\u001b[0m - \u001b[34mLyrix\u001b[0m - \u001b[1;37mINFO\u001b[0m - successfully got The Continuing Story Of Bungalow Bill for The Beatles\n",
      "\u001b[32m2022-03-13 20:37:43\u001b[0m - \u001b[34mLyrix\u001b[0m - \u001b[1;37mINFO\u001b[0m - successfully got I Will for The Beatles\n"
     ]
    },
    {
     "name": "stderr",
     "output_type": "stream",
     "text": [
      "\u001b[32m2022-03-13 20:37:44\u001b[0m - \u001b[34mLyrix\u001b[0m - \u001b[1;37mWARNING\u001b[0m - \u001b[33mfailed to get lyrics for Penny Lane\u001b[0m\n",
      "\u001b[32m2022-03-13 20:37:46\u001b[0m - \u001b[34mLyrix\u001b[0m - \u001b[1;37mINFO\u001b[0m - successfully got Blackbird for The Beatles\n",
      "\u001b[32m2022-03-13 20:37:46\u001b[0m - \u001b[34mLyrix\u001b[0m - \u001b[1;37mINFO\u001b[0m - successfully got Baby's In Black for The Beatles\n",
      "\u001b[32m2022-03-13 20:37:46\u001b[0m - \u001b[34mLyrix\u001b[0m - \u001b[1;37mINFO\u001b[0m - successfully got Love You To for The Beatles\n",
      "\u001b[32m2022-03-13 20:37:46\u001b[0m - \u001b[34mLyrix\u001b[0m - \u001b[1;37mINFO\u001b[0m - successfully got With A Little Help From My Friends for The Beatles\n",
      "\u001b[32m2022-03-13 20:37:46\u001b[0m - \u001b[34mLyrix\u001b[0m - \u001b[1;37mINFO\u001b[0m - successfully got Martha My Dear for The Beatles\n",
      "\u001b[32m2022-03-13 20:37:46\u001b[0m - \u001b[34mLyrix\u001b[0m - \u001b[1;37mINFO\u001b[0m - successfully got Cry Baby Cry for The Beatles\n",
      "\u001b[32m2022-03-13 20:37:46\u001b[0m - \u001b[34mLyrix\u001b[0m - \u001b[1;37mINFO\u001b[0m - successfully got Something for The Beatles\n",
      "\u001b[32m2022-03-13 20:37:46\u001b[0m - \u001b[34mLyrix\u001b[0m - \u001b[1;37mINFO\u001b[0m - successfully got It's All Too Much for The Beatles\n",
      "\u001b[32m2022-03-13 20:37:46\u001b[0m - \u001b[34mLyrix\u001b[0m - \u001b[1;37mINFO\u001b[0m - successfully got Sexy Sadie for The Beatles\n",
      "\u001b[32m2022-03-13 20:37:49\u001b[0m - \u001b[34mLyrix\u001b[0m - \u001b[1;37mINFO\u001b[0m - successfully got Back In The U.S.S.R. for The Beatles\n",
      "\u001b[32m2022-03-13 20:37:49\u001b[0m - \u001b[34mLyrix\u001b[0m - \u001b[1;37mINFO\u001b[0m - successfully got You Never Give Me Your Money for The Beatles\n",
      "\u001b[32m2022-03-13 20:37:49\u001b[0m - \u001b[34mLyrix\u001b[0m - \u001b[1;37mINFO\u001b[0m - successfully got The Ballad Of John And Yoko for The Beatles\n",
      "\u001b[32m2022-03-13 20:37:49\u001b[0m - \u001b[34mLyrix\u001b[0m - \u001b[1;37mINFO\u001b[0m - successfully got Honey Pie for The Beatles\n",
      "\u001b[32m2022-03-13 20:37:49\u001b[0m - \u001b[34mLyrix\u001b[0m - \u001b[1;37mINFO\u001b[0m - successfully got All You Need Is Love for The Beatles\n",
      "\u001b[32m2022-03-13 20:37:49\u001b[0m - \u001b[34mLyrix\u001b[0m - \u001b[1;37mINFO\u001b[0m - successfully got Carry That Weight for The Beatles\n",
      "\u001b[32m2022-03-13 20:37:49\u001b[0m - \u001b[34mLyrix\u001b[0m - \u001b[1;37mINFO\u001b[0m - successfully got I'm So Tired for The Beatles\n",
      "\u001b[32m2022-03-13 20:37:49\u001b[0m - \u001b[34mLyrix\u001b[0m - \u001b[1;37mINFO\u001b[0m - successfully got Ob-La-Di, Ob-La-Da for The Beatles\n",
      "\u001b[32m2022-03-13 20:37:50\u001b[0m - \u001b[34mLyrix\u001b[0m - \u001b[1;37mWARNING\u001b[0m - \u001b[33mfailed to get lyrics for Pepperland\u001b[0m\n",
      "\u001b[32m2022-03-13 20:37:52\u001b[0m - \u001b[34mLyrix\u001b[0m - \u001b[1;37mINFO\u001b[0m - successfully got Everybody’s Trying To Be My Baby for The Beatles\n",
      "\u001b[32m2022-03-13 20:37:52\u001b[0m - \u001b[34mLyrix\u001b[0m - \u001b[1;37mINFO\u001b[0m - successfully got Words Of Love for The Beatles\n",
      "\u001b[32m2022-03-13 20:37:52\u001b[0m - \u001b[34mLyrix\u001b[0m - \u001b[1;37mINFO\u001b[0m - successfully got Long Tall Sally for The Beatles\n",
      "\u001b[32m2022-03-13 20:37:52\u001b[0m - \u001b[34mLyrix\u001b[0m - \u001b[1;37mINFO\u001b[0m - successfully got Please Please Me for The Beatles\n",
      "\u001b[32m2022-03-13 20:37:52\u001b[0m - \u001b[34mLyrix\u001b[0m - \u001b[1;37mINFO\u001b[0m - successfully got Julia for The Beatles\n",
      "\u001b[32m2022-03-13 20:37:52\u001b[0m - \u001b[34mLyrix\u001b[0m - \u001b[1;37mINFO\u001b[0m - successfully got Yer Blues for The Beatles\n",
      "\u001b[32m2022-03-13 20:37:52\u001b[0m - \u001b[34mLyrix\u001b[0m - \u001b[1;37mINFO\u001b[0m - successfully got Long, Long, Long for The Beatles\n",
      "\u001b[32m2022-03-13 20:37:52\u001b[0m - \u001b[34mLyrix\u001b[0m - \u001b[1;37mINFO\u001b[0m - successfully got Good Night for The Beatles\n",
      "\u001b[32m2022-03-13 20:37:52\u001b[0m - \u001b[34mLyrix\u001b[0m - \u001b[1;37mINFO\u001b[0m - successfully got Revolution for The Beatles\n",
      "\u001b[32m2022-03-13 20:37:52\u001b[0m - \u001b[34mLyrix\u001b[0m - \u001b[1;37mINFO\u001b[0m - successfully got Eleanor Rigby for The Beatles\n",
      "\u001b[32m2022-03-13 20:37:52\u001b[0m - \u001b[34mLyrix\u001b[0m - \u001b[1;37mINFO\u001b[0m - successfully got Nowhere Man for The Beatles\n",
      "\u001b[32m2022-03-13 20:37:52\u001b[0m - \u001b[34mLyrix\u001b[0m - \u001b[1;37mINFO\u001b[0m - successfully got Rocky Raccoon for The Beatles\n",
      "\u001b[32m2022-03-13 20:37:52\u001b[0m - \u001b[34mLyrix\u001b[0m - \u001b[1;37mINFO\u001b[0m - successfully got Hey Bulldog for The Beatles\n",
      "\u001b[32m2022-03-13 20:37:52\u001b[0m - \u001b[34mLyrix\u001b[0m - \u001b[1;37mINFO\u001b[0m - successfully got Can't Buy Me Love for The Beatles\n",
      "\u001b[32m2022-03-13 20:37:52\u001b[0m - \u001b[34mLyrix\u001b[0m - \u001b[1;37mINFO\u001b[0m - successfully got Lucy In The Sky With Diamonds for The Beatles\n",
      "\u001b[32m2022-03-13 20:37:52\u001b[0m - \u001b[34mLyrix\u001b[0m - \u001b[1;37mINFO\u001b[0m - successfully got While My Guitar Gently Weeps for The Beatles\n",
      "\u001b[32m2022-03-13 20:37:52\u001b[0m - \u001b[34mLyrix\u001b[0m - \u001b[1;37mINFO\u001b[0m - successfully got Only A Northern Song for The Beatles\n",
      "\u001b[32m2022-03-13 20:37:52\u001b[0m - \u001b[34mLyrix\u001b[0m - \u001b[1;37mINFO\u001b[0m - successfully got All Together Now for The Beatles\n",
      "\u001b[32m2022-03-13 20:37:52\u001b[0m - \u001b[34mLyrix\u001b[0m - \u001b[1;37mINFO\u001b[0m - successfully got Think For Yourself for The Beatles\n",
      "\u001b[32m2022-03-13 20:37:52\u001b[0m - \u001b[34mLyrix\u001b[0m - \u001b[1;37mINFO\u001b[0m - successfully got A Hard Day's Night for The Beatles\n",
      "\u001b[32m2022-03-13 20:37:52\u001b[0m - \u001b[34mLyrix\u001b[0m - \u001b[1;37mINFO\u001b[0m - successfully got Sure To Fall (In Love With You) for The Beatles\n",
      "\u001b[32m2022-03-13 20:37:52\u001b[0m - \u001b[34mLyrix\u001b[0m - \u001b[1;37mINFO\u001b[0m - successfully got Savoy Truffle for The Beatles\n",
      "\u001b[32m2022-03-13 20:37:52\u001b[0m - \u001b[34mLyrix\u001b[0m - \u001b[1;37mINFO\u001b[0m - successfully got I Want To Hold Your Hand for The Beatles\n",
      "\u001b[32m2022-03-13 20:37:52\u001b[0m - \u001b[34mLyrix\u001b[0m - \u001b[1;37mINFO\u001b[0m - successfully got Lend Me Your Comb for The Beatles\n",
      "\u001b[32m2022-03-13 20:37:53\u001b[0m - \u001b[34mLyrix\u001b[0m - \u001b[1;37mWARNING\u001b[0m - \u001b[33mfailed to get lyrics for Misery\u001b[0m\n",
      "\u001b[32m2022-03-13 20:37:53\u001b[0m - \u001b[34mLyrix\u001b[0m - \u001b[1;37mWARNING\u001b[0m - \u001b[33mfailed to get lyrics for Young Blood\u001b[0m\n",
      "\u001b[32m2022-03-13 20:37:55\u001b[0m - \u001b[34mLyrix\u001b[0m - \u001b[1;37mINFO\u001b[0m - successfully got There's A Place for The Beatles\n",
      "\u001b[32m2022-03-13 20:37:55\u001b[0m - \u001b[34mLyrix\u001b[0m - \u001b[1;37mINFO\u001b[0m - successfully got Yellow Submarine for The Beatles\n",
      "\u001b[32m2022-03-13 20:37:55\u001b[0m - \u001b[34mLyrix\u001b[0m - \u001b[1;37mINFO\u001b[0m - successfully got Revolution 9 for The Beatles\n",
      "\u001b[32m2022-03-13 20:37:55\u001b[0m - \u001b[34mLyrix\u001b[0m - \u001b[1;37mINFO\u001b[0m - successfully got She Loves You for The Beatles\n",
      "\u001b[32m2022-03-13 20:37:55\u001b[0m - \u001b[34mLyrix\u001b[0m - \u001b[1;37mWARNING\u001b[0m - \u001b[33mfailed to get lyrics for God Save The Queen\u001b[0m\n",
      "\u001b[32m2022-03-13 20:37:55\u001b[0m - \u001b[34mLyrix\u001b[0m - \u001b[1;37mWARNING\u001b[0m - \u001b[33mfailed to get lyrics for Across The Universe\u001b[0m\n",
      "\u001b[32m2022-03-13 20:37:55\u001b[0m - \u001b[34mLyrix\u001b[0m - \u001b[1;37mWARNING\u001b[0m - \u001b[33mfailed to get lyrics for Like Making An Album?\u001b[0m\n",
      "\u001b[32m2022-03-13 20:37:55\u001b[0m - \u001b[34mLyrix\u001b[0m - \u001b[1;37mWARNING\u001b[0m - \u001b[33mfailed to get lyrics for Can You Dig It?\u001b[0m\n",
      "\u001b[32m2022-03-13 20:37:55\u001b[0m - \u001b[34mLyrix\u001b[0m - \u001b[1;37mWARNING\u001b[0m - \u001b[33mfailed to get lyrics for Octopus’s Garden\u001b[0m\n",
      "\u001b[32m2022-03-13 20:37:55\u001b[0m - \u001b[34mLyrix\u001b[0m - \u001b[1;37mWARNING\u001b[0m - \u001b[33mfailed to get lyrics for Goodbye\u001b[0m\n",
      "\u001b[32m2022-03-13 20:37:55\u001b[0m - \u001b[34mLyrix\u001b[0m - \u001b[1;37mWARNING\u001b[0m - \u001b[33mfailed to get lyrics for Octopus's Garden\u001b[0m\n",
      "\u001b[32m2022-03-13 20:37:57\u001b[0m - \u001b[34mLyrix\u001b[0m - \u001b[1;37mINFO\u001b[0m - successfully got Crying, Waiting, Hoping for The Beatles\n",
      "\u001b[32m2022-03-13 20:37:57\u001b[0m - \u001b[34mLyrix\u001b[0m - \u001b[1;37mINFO\u001b[0m - successfully got I Saw Her Standing There for The Beatles\n",
      "\u001b[32m2022-03-13 20:37:57\u001b[0m - \u001b[34mLyrix\u001b[0m - \u001b[1;37mINFO\u001b[0m - successfully got All My Loving for The Beatles\n",
      "\u001b[32m2022-03-13 20:37:57\u001b[0m - \u001b[34mLyrix\u001b[0m - \u001b[1;37mINFO\u001b[0m - successfully got Carol for The Beatles\n",
      "\u001b[32m2022-03-13 20:37:57\u001b[0m - \u001b[34mLyrix\u001b[0m - \u001b[1;37mINFO\u001b[0m - successfully got We Can Work It Out for The Beatles\n",
      "\u001b[32m2022-03-13 20:37:57\u001b[0m - \u001b[34mLyrix\u001b[0m - \u001b[1;37mINFO\u001b[0m - successfully got Helter Skelter for The Beatles\n",
      "\u001b[32m2022-03-13 20:37:57\u001b[0m - \u001b[34mLyrix\u001b[0m - \u001b[1;37mINFO\u001b[0m - successfully got Money (That's What I Want) for The Beatles\n",
      "\u001b[32m2022-03-13 20:37:57\u001b[0m - \u001b[34mLyrix\u001b[0m - \u001b[1;37mINFO\u001b[0m - successfully got From Us To You for The Beatles\n",
      "\u001b[32m2022-03-13 20:37:57\u001b[0m - \u001b[34mLyrix\u001b[0m - \u001b[1;37mINFO\u001b[0m - successfully got A Shot Of Rhythm And Blues for The Beatles\n",
      "\u001b[32m2022-03-13 20:37:57\u001b[0m - \u001b[34mLyrix\u001b[0m - \u001b[1;37mWARNING\u001b[0m - \u001b[33mfailed to get lyrics for I Don't Know Why I'm Moaning\u001b[0m\n",
      "\u001b[32m2022-03-13 20:37:57\u001b[0m - \u001b[34mLyrix\u001b[0m - \u001b[1;37mWARNING\u001b[0m - \u001b[33mfailed to get lyrics for Gimme Some Truth\u001b[0m\n",
      "\u001b[32m2022-03-13 20:37:57\u001b[0m - \u001b[34mLyrix\u001b[0m - \u001b[1;37mWARNING\u001b[0m - \u001b[33mfailed to get lyrics for Teddy Boy\u001b[0m\n",
      "\u001b[32m2022-03-13 20:37:58\u001b[0m - \u001b[34mLyrix\u001b[0m - \u001b[1;37mWARNING\u001b[0m - \u001b[33mfailed to get lyrics for Without A Song\u001b[0m\n",
      "\u001b[32m2022-03-13 20:37:58\u001b[0m - \u001b[34mLyrix\u001b[0m - \u001b[1;37mWARNING\u001b[0m - \u001b[33mfailed to get lyrics for Oh! Darling\u001b[0m\n",
      "\u001b[32m2022-03-13 20:37:58\u001b[0m - \u001b[34mLyrix\u001b[0m - \u001b[1;37mWARNING\u001b[0m - \u001b[33mfailed to get lyrics for Don't Pass Me By\u001b[0m\n"
     ]
    },
    {
     "name": "stderr",
     "output_type": "stream",
     "text": [
      "\u001b[32m2022-03-13 20:37:58\u001b[0m - \u001b[34mLyrix\u001b[0m - \u001b[1;37mWARNING\u001b[0m - \u001b[33mfailed to get lyrics for The Walk\u001b[0m\n",
      "\u001b[32m2022-03-13 20:37:58\u001b[0m - \u001b[34mLyrix\u001b[0m - \u001b[1;37mWARNING\u001b[0m - \u001b[33mfailed to get lyrics for Help!\u001b[0m\n",
      "\u001b[32m2022-03-13 20:37:58\u001b[0m - \u001b[34mLyrix\u001b[0m - \u001b[1;37mWARNING\u001b[0m - \u001b[33mfailed to get lyrics for Dizzy Miss Lizzy\u001b[0m\n",
      "\u001b[32m2022-03-13 20:37:58\u001b[0m - \u001b[34mLyrix\u001b[0m - \u001b[1;37mWARNING\u001b[0m - \u001b[33mfailed to get lyrics for Good Morning Good Morning\u001b[0m\n",
      "\u001b[32m2022-03-13 20:38:00\u001b[0m - \u001b[34mLyrix\u001b[0m - \u001b[1;37mWARNING\u001b[0m - \u001b[33mfailed to get lyrics for Here Comes The Sun\u001b[0m\n",
      "\u001b[32m2022-03-13 20:38:00\u001b[0m - \u001b[34mLyrix\u001b[0m - \u001b[1;37mWARNING\u001b[0m - \u001b[33mfailed to get lyrics for Mean Mr Mustard\u001b[0m\n",
      "\u001b[32m2022-03-13 20:38:00\u001b[0m - \u001b[34mLyrix\u001b[0m - \u001b[1;37mWARNING\u001b[0m - \u001b[33mfailed to get lyrics for Everybody's Got Something To Hide Except Me And My Monkey\u001b[0m\n",
      "\u001b[32m2022-03-13 20:38:00\u001b[0m - \u001b[34mLyrix\u001b[0m - \u001b[1;37mWARNING\u001b[0m - \u001b[33mfailed to get lyrics for Mean Mr. Mustard\u001b[0m\n",
      "\u001b[32m2022-03-13 20:38:01\u001b[0m - \u001b[34mLyrix\u001b[0m - \u001b[1;37mWARNING\u001b[0m - \u001b[33mfailed to get lyrics for For No One\u001b[0m\n",
      "\u001b[32m2022-03-13 20:38:04\u001b[0m - \u001b[34mLyrix\u001b[0m - \u001b[1;37mINFO\u001b[0m - successfully got Paperback Writer for The Beatles\n",
      "\u001b[32m2022-03-13 20:38:04\u001b[0m - \u001b[34mLyrix\u001b[0m - \u001b[1;37mINFO\u001b[0m - successfully got I'll Get You for The Beatles\n",
      "\u001b[32m2022-03-13 20:38:08\u001b[0m - \u001b[34mLyrix\u001b[0m - \u001b[1;37mINFO\u001b[0m - successfully got Devil In Her Heart for The Beatles\n",
      "\u001b[32m2022-03-13 20:38:08\u001b[0m - \u001b[34mLyrix\u001b[0m - \u001b[1;37mINFO\u001b[0m - successfully got Please Mister Postman for The Beatles\n",
      "\u001b[32m2022-03-13 20:38:08\u001b[0m - \u001b[34mLyrix\u001b[0m - \u001b[1;37mINFO\u001b[0m - successfully got Sun King for The Beatles\n",
      "\u001b[32m2022-03-13 20:38:08\u001b[0m - \u001b[34mLyrix\u001b[0m - \u001b[1;37mINFO\u001b[0m - successfully got Glad All Over for The Beatles\n",
      "\u001b[32m2022-03-13 20:38:08\u001b[0m - \u001b[34mLyrix\u001b[0m - \u001b[1;37mWARNING\u001b[0m - \u001b[33mfailed to get lyrics for The Long One\u001b[0m\n",
      "\u001b[32m2022-03-13 20:38:08\u001b[0m - \u001b[34mLyrix\u001b[0m - \u001b[1;37mWARNING\u001b[0m - \u001b[33mfailed to get lyrics for Sour Milk Sea\u001b[0m\n",
      "\u001b[32m2022-03-13 20:38:08\u001b[0m - \u001b[34mLyrix\u001b[0m - \u001b[1;37mWARNING\u001b[0m - \u001b[33mfailed to get lyrics for The 49 Weeks\u001b[0m\n",
      "\u001b[32m2022-03-13 20:38:08\u001b[0m - \u001b[34mLyrix\u001b[0m - \u001b[1;37mWARNING\u001b[0m - \u001b[33mfailed to get lyrics for The Hippy Hippy Shake\u001b[0m\n",
      "\u001b[32m2022-03-13 20:38:11\u001b[0m - \u001b[34mLyrix\u001b[0m - \u001b[1;37mINFO\u001b[0m - successfully got Yesterday for The Beatles\n",
      "\u001b[32m2022-03-13 20:38:11\u001b[0m - \u001b[34mLyrix\u001b[0m - \u001b[1;37mINFO\u001b[0m - successfully got This Boy for The Beatles\n",
      "\u001b[32m2022-03-13 20:38:11\u001b[0m - \u001b[34mLyrix\u001b[0m - \u001b[1;37mINFO\u001b[0m - successfully got I Feel Fine for The Beatles\n",
      "\u001b[32m2022-03-13 20:38:11\u001b[0m - \u001b[34mLyrix\u001b[0m - \u001b[1;37mINFO\u001b[0m - successfully got Baby You're A Rich Man for The Beatles\n",
      "\u001b[32m2022-03-13 20:38:11\u001b[0m - \u001b[34mLyrix\u001b[0m - \u001b[1;37mINFO\u001b[0m - successfully got A Taste Of Honey for The Beatles\n",
      "\u001b[32m2022-03-13 20:38:11\u001b[0m - \u001b[34mLyrix\u001b[0m - \u001b[1;37mINFO\u001b[0m - successfully got Clarabella for The Beatles\n",
      "\u001b[32m2022-03-13 20:38:11\u001b[0m - \u001b[34mLyrix\u001b[0m - \u001b[1;37mINFO\u001b[0m - successfully got You Really Got A Hold On Me for The Beatles\n",
      "\u001b[32m2022-03-13 20:38:11\u001b[0m - \u001b[34mLyrix\u001b[0m - \u001b[1;37mINFO\u001b[0m - successfully got From Me To You for The Beatles\n",
      "\u001b[32m2022-03-13 20:38:13\u001b[0m - \u001b[34mLyrix\u001b[0m - \u001b[1;37mINFO\u001b[0m - successfully got Till There Was You for The Beatles\n",
      "\u001b[32m2022-03-13 20:38:13\u001b[0m - \u001b[34mLyrix\u001b[0m - \u001b[1;37mINFO\u001b[0m - successfully got Thank You Girl for The Beatles\n",
      "\u001b[32m2022-03-13 20:38:13\u001b[0m - \u001b[34mLyrix\u001b[0m - \u001b[1;37mINFO\u001b[0m - successfully got Ask Me Why for The Beatles\n",
      "\u001b[32m2022-03-13 20:38:13\u001b[0m - \u001b[34mLyrix\u001b[0m - \u001b[1;37mINFO\u001b[0m - successfully got Hey Jude for The Beatles\n",
      "\u001b[32m2022-03-13 20:38:13\u001b[0m - \u001b[34mLyrix\u001b[0m - \u001b[1;37mINFO\u001b[0m - successfully got Day Tripper for The Beatles\n",
      "\u001b[32m2022-03-13 20:38:13\u001b[0m - \u001b[34mLyrix\u001b[0m - \u001b[1;37mINFO\u001b[0m - successfully got Lady Madonna for The Beatles\n",
      "\u001b[32m2022-03-13 20:38:13\u001b[0m - \u001b[34mLyrix\u001b[0m - \u001b[1;37mINFO\u001b[0m - successfully got Too Much Monkey Business for The Beatles\n",
      "\u001b[32m2022-03-13 20:38:13\u001b[0m - \u001b[34mLyrix\u001b[0m - \u001b[1;37mINFO\u001b[0m - successfully got Nothin' Shakin' for The Beatles\n",
      "\u001b[32m2022-03-13 20:38:13\u001b[0m - \u001b[34mLyrix\u001b[0m - \u001b[1;37mWARNING\u001b[0m - \u001b[33mfailed to get lyrics for Hello!\u001b[0m\n",
      "\u001b[32m2022-03-13 20:38:13\u001b[0m - \u001b[34mLyrix\u001b[0m - \u001b[1;37mWARNING\u001b[0m - \u001b[33mfailed to get lyrics for I'll Be On My Way\u001b[0m\n",
      "\u001b[32m2022-03-13 20:38:13\u001b[0m - \u001b[34mLyrix\u001b[0m - \u001b[1;37mWARNING\u001b[0m - \u001b[33mfailed to get lyrics for I'm Talking About You\u001b[0m\n",
      "\u001b[32m2022-03-13 20:38:13\u001b[0m - \u001b[34mLyrix\u001b[0m - \u001b[1;37mWARNING\u001b[0m - \u001b[33mfailed to get lyrics for What Is It, George?\u001b[0m\n",
      "\u001b[32m2022-03-13 20:38:16\u001b[0m - \u001b[34mLyrix\u001b[0m - \u001b[1;37mINFO\u001b[0m - successfully got Eight Days A Week for The Beatles\n",
      "\u001b[32m2022-03-13 20:38:16\u001b[0m - \u001b[34mLyrix\u001b[0m - \u001b[1;37mWARNING\u001b[0m - \u001b[33mfailed to get lyrics for The Honeymoon Song\u001b[0m\n",
      "\u001b[32m2022-03-13 20:38:16\u001b[0m - \u001b[34mLyrix\u001b[0m - \u001b[1;37mINFO\u001b[0m - successfully got I Got A Woman for The Beatles\n",
      "\u001b[32m2022-03-13 20:38:16\u001b[0m - \u001b[34mLyrix\u001b[0m - \u001b[1;37mINFO\u001b[0m - successfully got Hello, Goodbye for The Beatles\n",
      "\u001b[32m2022-03-13 20:38:16\u001b[0m - \u001b[34mLyrix\u001b[0m - \u001b[1;37mINFO\u001b[0m - successfully got Johnny B Goode for The Beatles\n",
      "\u001b[32m2022-03-13 20:38:16\u001b[0m - \u001b[34mLyrix\u001b[0m - \u001b[1;37mWARNING\u001b[0m - \u001b[33mfailed to get lyrics for Now Hush, Hush\u001b[0m\n",
      "\u001b[32m2022-03-13 20:38:21\u001b[0m - \u001b[34mLyrix\u001b[0m - \u001b[1;37mINFO\u001b[0m - successfully got Chains for The Beatles\n",
      "\u001b[32m2022-03-13 20:38:21\u001b[0m - \u001b[34mLyrix\u001b[0m - \u001b[1;37mINFO\u001b[0m - successfully got Sea Of Holes for The Beatles\n",
      "\u001b[32m2022-03-13 20:38:21\u001b[0m - \u001b[34mLyrix\u001b[0m - \u001b[1;37mINFO\u001b[0m - successfully got Sea Of Monsters for The Beatles\n",
      "\u001b[32m2022-03-13 20:38:21\u001b[0m - \u001b[34mLyrix\u001b[0m - \u001b[1;37mINFO\u001b[0m - successfully got Lucille for The Beatles\n",
      "\u001b[32m2022-03-13 20:38:21\u001b[0m - \u001b[34mLyrix\u001b[0m - \u001b[1;37mINFO\u001b[0m - successfully got March Of The Meanies for The Beatles\n",
      "\u001b[32m2022-03-13 20:38:21\u001b[0m - \u001b[34mLyrix\u001b[0m - \u001b[1;37mINFO\u001b[0m - successfully got Yellow Submarine In Pepperland for The Beatles\n",
      "\u001b[32m2022-03-13 20:38:21\u001b[0m - \u001b[34mLyrix\u001b[0m - \u001b[1;37mINFO\u001b[0m - successfully got Sea Of Time for The Beatles\n",
      "\u001b[32m2022-03-13 20:38:21\u001b[0m - \u001b[34mLyrix\u001b[0m - \u001b[1;37mINFO\u001b[0m - successfully got The Fool On The Hill for The Beatles\n",
      "\u001b[32m2022-03-13 20:38:21\u001b[0m - \u001b[34mLyrix\u001b[0m - \u001b[1;37mINFO\u001b[0m - successfully got Pepperland Laid Waste for The Beatles\n",
      "\u001b[32m2022-03-13 20:38:21\u001b[0m - \u001b[34mLyrix\u001b[0m - \u001b[1;37mINFO\u001b[0m - successfully got Flying for The Beatles\n",
      "\u001b[32m2022-03-13 20:38:21\u001b[0m - \u001b[34mLyrix\u001b[0m - \u001b[1;37mINFO\u001b[0m - successfully got Magical Mystery Tour for The Beatles\n",
      "\u001b[32m2022-03-13 20:38:21\u001b[0m - \u001b[34mLyrix\u001b[0m - \u001b[1;37mWARNING\u001b[0m - \u001b[33mfailed to get lyrics for Brian Bathtubes\u001b[0m\n",
      "\u001b[32m2022-03-13 20:38:23\u001b[0m - \u001b[34mLyrix\u001b[0m - \u001b[1;37mINFO\u001b[0m - successfully got Blue Jay Way for The Beatles\n",
      "\u001b[32m2022-03-13 20:38:23\u001b[0m - \u001b[34mLyrix\u001b[0m - \u001b[1;37mINFO\u001b[0m - successfully got Your Mother Should Know for The Beatles\n",
      "\u001b[32m2022-03-13 20:38:23\u001b[0m - \u001b[34mLyrix\u001b[0m - \u001b[1;37mINFO\u001b[0m - successfully got Fixing A Hole for The Beatles\n",
      "\u001b[32m2022-03-13 20:38:23\u001b[0m - \u001b[34mLyrix\u001b[0m - \u001b[1;37mWARNING\u001b[0m - \u001b[33mfailed to get lyrics for Lonesome Tears In My Eyes\u001b[0m\n",
      "\u001b[32m2022-03-13 20:38:23\u001b[0m - \u001b[34mLyrix\u001b[0m - \u001b[1;37mWARNING\u001b[0m - \u001b[33mfailed to get lyrics for 1822!\u001b[0m\n",
      "\u001b[32m2022-03-13 20:38:23\u001b[0m - \u001b[34mLyrix\u001b[0m - \u001b[1;37mWARNING\u001b[0m - \u001b[33mfailed to get lyrics for Ringo? Yep!\u001b[0m\n",
      "\u001b[32m2022-03-13 20:38:23\u001b[0m - \u001b[34mLyrix\u001b[0m - \u001b[1;37mWARNING\u001b[0m - \u001b[33mfailed to get lyrics for Just A Rumour\u001b[0m\n",
      "\u001b[32m2022-03-13 20:38:23\u001b[0m - \u001b[34mLyrix\u001b[0m - \u001b[1;37mWARNING\u001b[0m - \u001b[33mfailed to get lyrics for Sweet Little Sixteen\u001b[0m\n",
      "\u001b[32m2022-03-13 20:38:23\u001b[0m - \u001b[34mLyrix\u001b[0m - \u001b[1;37mWARNING\u001b[0m - \u001b[33mfailed to get lyrics for From Fluff To You\u001b[0m\n",
      "\u001b[32m2022-03-13 20:38:23\u001b[0m - \u001b[34mLyrix\u001b[0m - \u001b[1;37mWARNING\u001b[0m - \u001b[33mfailed to get lyrics for Soldier Of Love\u001b[0m\n",
      "\u001b[32m2022-03-13 20:38:23\u001b[0m - \u001b[34mLyrix\u001b[0m - \u001b[1;37mWARNING\u001b[0m - \u001b[33mfailed to get lyrics for P.S. I Love You\u001b[0m\n",
      "\u001b[32m2022-03-13 20:38:23\u001b[0m - \u001b[34mLyrix\u001b[0m - \u001b[1;37mWARNING\u001b[0m - \u001b[33mfailed to get lyrics for Her Majesty\u001b[0m\n",
      "\u001b[32m2022-03-13 20:38:23\u001b[0m - \u001b[34mLyrix\u001b[0m - \u001b[1;37mWARNING\u001b[0m - \u001b[33mfailed to get lyrics for If I Wasn’t In America\u001b[0m\n",
      "\u001b[32m2022-03-13 20:38:23\u001b[0m - \u001b[34mLyrix\u001b[0m - \u001b[1;37mWARNING\u001b[0m - \u001b[33mfailed to get lyrics for Baby It's You\u001b[0m\n"
     ]
    },
    {
     "name": "stderr",
     "output_type": "stream",
     "text": [
      "\u001b[32m2022-03-13 20:38:23\u001b[0m - \u001b[34mLyrix\u001b[0m - \u001b[1;37mWARNING\u001b[0m - \u001b[33mfailed to get lyrics for Crinsk Dee Night\u001b[0m\n",
      "\u001b[32m2022-03-13 20:38:23\u001b[0m - \u001b[34mLyrix\u001b[0m - \u001b[1;37mWARNING\u001b[0m - \u001b[33mfailed to get lyrics for Memphis, Tennessee\u001b[0m\n",
      "\u001b[32m2022-03-13 20:38:23\u001b[0m - \u001b[34mLyrix\u001b[0m - \u001b[1;37mWARNING\u001b[0m - \u001b[33mfailed to get lyrics for Beautiful Dreamer\u001b[0m\n",
      "\u001b[32m2022-03-13 20:38:26\u001b[0m - \u001b[34mLyrix\u001b[0m - \u001b[1;37mINFO\u001b[0m - successfully got I Am The Walrus for The Beatles\n",
      "\u001b[32m2022-03-13 20:38:26\u001b[0m - \u001b[34mLyrix\u001b[0m - \u001b[1;37mINFO\u001b[0m - successfully got Sgt. Pepper's Lonely Hearts Club Band (Reprise) for The Beatles\n",
      "\u001b[32m2022-03-13 20:38:26\u001b[0m - \u001b[34mLyrix\u001b[0m - \u001b[1;37mINFO\u001b[0m - successfully got Being For The Benefit Of Mr. Kite! for The Beatles\n",
      "\u001b[32m2022-03-13 20:38:26\u001b[0m - \u001b[34mLyrix\u001b[0m - \u001b[1;37mINFO\u001b[0m - successfully got Sgt. Pepper's Lonely Hearts Club Band for The Beatles\n",
      "\u001b[32m2022-03-13 20:38:26\u001b[0m - \u001b[34mLyrix\u001b[0m - \u001b[1;37mINFO\u001b[0m - successfully got Getting Better for The Beatles\n",
      "\u001b[32m2022-03-13 20:38:26\u001b[0m - \u001b[34mLyrix\u001b[0m - \u001b[1;37mWARNING\u001b[0m - \u001b[33mfailed to get lyrics for Revolution 1\u001b[0m\n",
      "\u001b[32m2022-03-13 20:38:26\u001b[0m - \u001b[34mLyrix\u001b[0m - \u001b[1;37mINFO\u001b[0m - successfully got Baby, You're A Rich Man for The Beatles\n",
      "\u001b[32m2022-03-13 20:38:26\u001b[0m - \u001b[34mLyrix\u001b[0m - \u001b[1;37mWARNING\u001b[0m - \u001b[33mfailed to get lyrics for Lower 5E\u001b[0m\n",
      "\u001b[32m2022-03-13 20:38:26\u001b[0m - \u001b[34mLyrix\u001b[0m - \u001b[1;37mINFO\u001b[0m - successfully got Lovely Rita for The Beatles\n",
      "\u001b[32m2022-03-13 20:38:26\u001b[0m - \u001b[34mLyrix\u001b[0m - \u001b[1;37mINFO\u001b[0m - successfully got I'm Only Sleeping for The Beatles\n",
      "\u001b[32m2022-03-13 20:38:26\u001b[0m - \u001b[34mLyrix\u001b[0m - \u001b[1;37mINFO\u001b[0m - successfully got Taxman for The Beatles\n",
      "\u001b[32m2022-03-13 20:38:26\u001b[0m - \u001b[34mLyrix\u001b[0m - \u001b[1;37mINFO\u001b[0m - successfully got A Day In The Life for The Beatles\n",
      "\u001b[32m2022-03-13 20:38:26\u001b[0m - \u001b[34mLyrix\u001b[0m - \u001b[1;37mINFO\u001b[0m - successfully got Within You Without You for The Beatles\n",
      "\u001b[32m2022-03-13 20:38:26\u001b[0m - \u001b[34mLyrix\u001b[0m - \u001b[1;37mWARNING\u001b[0m - \u001b[33mfailed to get lyrics for To Know Her Is To Love Her\u001b[0m\n",
      "\u001b[32m2022-03-13 20:38:26\u001b[0m - \u001b[34mLyrix\u001b[0m - \u001b[1;37mINFO\u001b[0m - successfully got She's Leaving Home for The Beatles\n",
      "\u001b[32m2022-03-13 20:38:26\u001b[0m - \u001b[34mLyrix\u001b[0m - \u001b[1;37mWARNING\u001b[0m - \u001b[33mfailed to get lyrics for How About It, Gorgeous?\u001b[0m\n",
      "\u001b[32m2022-03-13 20:38:26\u001b[0m - \u001b[34mLyrix\u001b[0m - \u001b[1;37mWARNING\u001b[0m - \u001b[33mfailed to get lyrics for Dear Wack!\u001b[0m\n",
      "\u001b[32m2022-03-13 20:38:26\u001b[0m - \u001b[34mLyrix\u001b[0m - \u001b[1;37mWARNING\u001b[0m - \u001b[33mfailed to get lyrics for Some Other Guy\u001b[0m\n",
      "\u001b[32m2022-03-13 20:38:26\u001b[0m - \u001b[34mLyrix\u001b[0m - \u001b[1;37mWARNING\u001b[0m - \u001b[33mfailed to get lyrics for Keep Your Hands Off My Baby\u001b[0m\n",
      "\u001b[32m2022-03-13 20:38:26\u001b[0m - \u001b[34mLyrix\u001b[0m - \u001b[1;37mWARNING\u001b[0m - \u001b[33mfailed to get lyrics for Sha La La La La!\u001b[0m\n",
      "\u001b[32m2022-03-13 20:38:26\u001b[0m - \u001b[34mLyrix\u001b[0m - \u001b[1;37mWARNING\u001b[0m - \u001b[33mfailed to get lyrics for Hey Paul….\u001b[0m\n",
      "\u001b[32m2022-03-13 20:38:26\u001b[0m - \u001b[34mLyrix\u001b[0m - \u001b[1;37mWARNING\u001b[0m - \u001b[33mfailed to get lyrics for John\u001b[0m\n",
      "\u001b[32m2022-03-13 20:38:28\u001b[0m - \u001b[34mLyrix\u001b[0m - \u001b[1;37mINFO\u001b[0m - successfully got And Your Bird Can Sing for The Beatles\n",
      "\u001b[32m2022-03-13 20:38:28\u001b[0m - \u001b[34mLyrix\u001b[0m - \u001b[1;37mINFO\u001b[0m - successfully got Tomorrow Never Knows for The Beatles\n",
      "\u001b[32m2022-03-13 20:38:28\u001b[0m - \u001b[34mLyrix\u001b[0m - \u001b[1;37mINFO\u001b[0m - successfully got Doctor Robert for The Beatles\n",
      "\u001b[32m2022-03-13 20:38:28\u001b[0m - \u001b[34mLyrix\u001b[0m - \u001b[1;37mWARNING\u001b[0m - \u001b[33mfailed to get lyrics for Absolutely Fab\u001b[0m\n",
      "\u001b[32m2022-03-13 20:38:28\u001b[0m - \u001b[34mLyrix\u001b[0m - \u001b[1;37mWARNING\u001b[0m - \u001b[33mfailed to get lyrics for Beatles Greetings\u001b[0m\n",
      "\u001b[32m2022-03-13 20:38:28\u001b[0m - \u001b[34mLyrix\u001b[0m - \u001b[1;37mINFO\u001b[0m - successfully got Got To Get You Into My Life for The Beatles\n",
      "\u001b[32m2022-03-13 20:38:28\u001b[0m - \u001b[34mLyrix\u001b[0m - \u001b[1;37mINFO\u001b[0m - successfully got I Want To Tell You for The Beatles\n",
      "\u001b[32m2022-03-13 20:38:29\u001b[0m - \u001b[34mLyrix\u001b[0m - \u001b[1;37mWARNING\u001b[0m - \u001b[33mfailed to get lyrics for A Real Treat\u001b[0m\n",
      "\u001b[32m2022-03-13 20:38:29\u001b[0m - \u001b[34mLyrix\u001b[0m - \u001b[1;37mWARNING\u001b[0m - \u001b[33mfailed to get lyrics for Never Mind, Eh?\u001b[0m\n",
      "\u001b[32m2022-03-13 20:38:29\u001b[0m - \u001b[34mLyrix\u001b[0m - \u001b[1;37mWARNING\u001b[0m - \u001b[33mfailed to get lyrics for Happy Birthday Dear Saturday Club\u001b[0m\n",
      "\u001b[32m2022-03-13 20:38:29\u001b[0m - \u001b[34mLyrix\u001b[0m - \u001b[1;37mWARNING\u001b[0m - \u001b[33mfailed to get lyrics for Bye, Bye\u001b[0m\n",
      "\u001b[32m2022-03-13 20:38:29\u001b[0m - \u001b[34mLyrix\u001b[0m - \u001b[1;37mWARNING\u001b[0m - \u001b[33mfailed to get lyrics for I'm Gonna Sit Right Down And Cry (Over You)\u001b[0m\n",
      "\u001b[32m2022-03-13 20:38:31\u001b[0m - \u001b[34mLyrix\u001b[0m - \u001b[1;37mINFO\u001b[0m - successfully got Good Day Sunshine for The Beatles\n",
      "\u001b[32m2022-03-13 20:38:31\u001b[0m - \u001b[34mLyrix\u001b[0m - \u001b[1;37mWARNING\u001b[0m - \u001b[33mfailed to get lyrics for When I'm Sixty Four\u001b[0m\n",
      "\u001b[32m2022-03-13 20:38:31\u001b[0m - \u001b[34mLyrix\u001b[0m - \u001b[1;37mWARNING\u001b[0m - \u001b[33mfailed to get lyrics for Bumper Bundle\u001b[0m\n",
      "\u001b[32m2022-03-13 20:38:31\u001b[0m - \u001b[34mLyrix\u001b[0m - \u001b[1;37mWARNING\u001b[0m - \u001b[33mfailed to get lyrics for A Little Rhyme\u001b[0m\n",
      "\u001b[32m2022-03-13 20:38:31\u001b[0m - \u001b[34mLyrix\u001b[0m - \u001b[1;37mWARNING\u001b[0m - \u001b[33mfailed to get lyrics for That's All Right (Mama)\u001b[0m\n",
      "\u001b[32m2022-03-13 20:38:32\u001b[0m - \u001b[34mLyrix\u001b[0m - \u001b[1;37mWARNING\u001b[0m - \u001b[33mfailed to get lyrics for George\u001b[0m\n",
      "\u001b[32m2022-03-13 20:38:36\u001b[0m - \u001b[34mLyrix\u001b[0m - \u001b[1;37mWARNING\u001b[0m - \u001b[33mfailed to get lyrics for Riding On A Bus\u001b[0m\n",
      "\u001b[32m2022-03-13 20:38:36\u001b[0m - \u001b[34mLyrix\u001b[0m - \u001b[1;37mWARNING\u001b[0m - \u001b[33mfailed to get lyrics for Strawberry Fields Forever\u001b[0m\n",
      "\u001b[32m2022-03-13 20:38:36\u001b[0m - \u001b[34mLyrix\u001b[0m - \u001b[1;37mWARNING\u001b[0m - \u001b[33mfailed to get lyrics for When I'm Sixty-Four\u001b[0m\n",
      "\u001b[32m2022-03-13 20:38:40\u001b[0m - \u001b[34mLyrix\u001b[0m - \u001b[1;37mWARNING\u001b[0m - \u001b[33mfailed to get lyrics for She Said She Said\u001b[0m\n",
      "\u001b[32m2022-03-13 20:38:40\u001b[0m - \u001b[34mLyrix\u001b[0m - \u001b[1;37mWARNING\u001b[0m - \u001b[33mfailed to get lyrics for Here, There And Everywhere\u001b[0m\n"
     ]
    },
    {
     "data": {
      "text/plain": [
       "{'nsongs': 246,\n",
       " 'nsongs_lyrics_found': 147,\n",
       " 'number_of_words': {'mean': 154.55,\n",
       "  'std': 78.58,\n",
       "  'variance': 6174.97,\n",
       "  'min': {'value': 11, 'song': 'Sea Of Time'},\n",
       "  'max': {'value': 677, 'song': 'Revolution 9'}}}"
      ]
     },
     "execution_count": 7,
     "metadata": {},
     "output_type": "execute_result"
    }
   ],
   "source": [
    "beatles = lyrix.get('The Beatles')\n",
    "beatles.stats"
   ]
  },
  {
   "cell_type": "code",
   "execution_count": 8,
   "id": "further-method",
   "metadata": {
    "scrolled": false
   },
   "outputs": [
    {
     "name": "stderr",
     "output_type": "stream",
     "text": [
      "\u001b[32m2022-03-13 20:38:40\u001b[0m - \u001b[34mLyrix\u001b[0m - \u001b[1;37mWARNING\u001b[0m - \u001b[33mfound multiple artists: [('The Rolling Stones', '22bE4uQ6baNwSHPVcDxLCe'), ('The Rolling Stones in het fries - The Hangouts', '6n5ceqTPlycEbZZLpGr3Tb'), ('Rolling Stones Angie', '40X9S5p1RqnyuNDciJ2ex4'), ('The Rolling Stones Experience', '2w8gwXOK2qyjGjBzNRfO8Z'), ('The Rolling Stones Tribute', '797H1tkFT70cwEXwh78dVc'), ('A Tribute To Rolling Stones', '4yVKcrICZ6NhYj6cRB9Oq2'), ('The Rolling Stones Tribute Band', '4rl2bRg9bQBDxTXjaf4BGU'), ('Made famous by Rolling Stones', '4hWemhS0wdtP6EHKz8u4fA'), ('Made famous by The Rolling Stones', '1FJkl1kWRMHjUS09neODTJ')]. Using the first!\u001b[0m\n",
      "\u001b[32m2022-03-13 20:38:40\u001b[0m - \u001b[34mLyrix\u001b[0m - \u001b[1;37mINFO\u001b[0m - found the artist 'The Rolling Stones' with id=22bE4uQ6baNwSHPVcDxLCe\n",
      "\u001b[32m2022-03-13 20:38:40\u001b[0m - \u001b[34mLyrix\u001b[0m - \u001b[1;37mINFO\u001b[0m - found 20 albums\n",
      "\u001b[32m2022-03-13 20:38:41\u001b[0m - \u001b[34mLyrix\u001b[0m - \u001b[1;37mINFO\u001b[0m - found 189 songs\n",
      "\u001b[32m2022-03-13 20:38:43\u001b[0m - \u001b[34mLyrix\u001b[0m - \u001b[1;37mWARNING\u001b[0m - \u001b[33mfailed to get lyrics for No Use In Crying\u001b[0m\n",
      "\u001b[32m2022-03-13 20:38:43\u001b[0m - \u001b[34mLyrix\u001b[0m - \u001b[1;37mWARNING\u001b[0m - \u001b[33mfailed to get lyrics for Come To The Ball\u001b[0m\n",
      "\u001b[32m2022-03-13 20:38:43\u001b[0m - \u001b[34mLyrix\u001b[0m - \u001b[1;37mWARNING\u001b[0m - \u001b[33mfailed to get lyrics for Black Limousine\u001b[0m\n",
      "\u001b[32m2022-03-13 20:38:43\u001b[0m - \u001b[34mLyrix\u001b[0m - \u001b[1;37mWARNING\u001b[0m - \u001b[33mfailed to get lyrics for Waiting On A Friend\u001b[0m\n",
      "\u001b[32m2022-03-13 20:38:45\u001b[0m - \u001b[34mLyrix\u001b[0m - \u001b[1;37mWARNING\u001b[0m - \u001b[33mfailed to get lyrics for Love In Vain\u001b[0m\n",
      "\u001b[32m2022-03-13 20:38:45\u001b[0m - \u001b[34mLyrix\u001b[0m - \u001b[1;37mWARNING\u001b[0m - \u001b[33mfailed to get lyrics for Little Rain\u001b[0m\n",
      "\u001b[32m2022-03-13 20:38:45\u001b[0m - \u001b[34mLyrix\u001b[0m - \u001b[1;37mWARNING\u001b[0m - \u001b[33mfailed to get lyrics for You Got Me Rocking\u001b[0m\n",
      "\u001b[32m2022-03-13 20:38:48\u001b[0m - \u001b[34mLyrix\u001b[0m - \u001b[1;37mWARNING\u001b[0m - \u001b[33mfailed to get lyrics for Miss You\u001b[0m\n",
      "\u001b[32m2022-03-13 20:38:50\u001b[0m - \u001b[34mLyrix\u001b[0m - \u001b[1;37mWARNING\u001b[0m - \u001b[33mfailed to get lyrics for Dancing With Mr D\u001b[0m\n",
      "\u001b[32m2022-03-13 20:38:50\u001b[0m - \u001b[34mLyrix\u001b[0m - \u001b[1;37mWARNING\u001b[0m - \u001b[33mfailed to get lyrics for Gimme Shelter\u001b[0m\n",
      "\u001b[32m2022-03-13 20:38:50\u001b[0m - \u001b[34mLyrix\u001b[0m - \u001b[1;37mWARNING\u001b[0m - \u001b[33mfailed to get lyrics for Undercover Of The Night\u001b[0m\n",
      "\u001b[32m2022-03-13 20:38:50\u001b[0m - \u001b[34mLyrix\u001b[0m - \u001b[1;37mWARNING\u001b[0m - \u001b[33mfailed to get lyrics for Flip The Switch\u001b[0m\n",
      "\u001b[32m2022-03-13 20:38:50\u001b[0m - \u001b[34mLyrix\u001b[0m - \u001b[1;37mWARNING\u001b[0m - \u001b[33mfailed to get lyrics for Harlem Shuffle\u001b[0m\n",
      "\u001b[32m2022-03-13 20:38:50\u001b[0m - \u001b[34mLyrix\u001b[0m - \u001b[1;37mWARNING\u001b[0m - \u001b[33mfailed to get lyrics for Rock And A Hard Place\u001b[0m\n",
      "\u001b[32m2022-03-13 20:38:52\u001b[0m - \u001b[34mLyrix\u001b[0m - \u001b[1;37mWARNING\u001b[0m - \u001b[33mfailed to get lyrics for Saint Of Me\u001b[0m\n",
      "\u001b[32m2022-03-13 20:38:54\u001b[0m - \u001b[34mLyrix\u001b[0m - \u001b[1;37mWARNING\u001b[0m - \u001b[33mfailed to get lyrics for She's A Rainbow\u001b[0m\n",
      "\u001b[32m2022-03-13 20:38:54\u001b[0m - \u001b[34mLyrix\u001b[0m - \u001b[1;37mWARNING\u001b[0m - \u001b[33mfailed to get lyrics for Oh! Baby (We Got A Good Thing Goin’)\u001b[0m\n",
      "\u001b[32m2022-03-13 20:38:54\u001b[0m - \u001b[34mLyrix\u001b[0m - \u001b[1;37mWARNING\u001b[0m - \u001b[33mfailed to get lyrics for Just Your Fool\u001b[0m\n",
      "\u001b[32m2022-03-13 20:38:54\u001b[0m - \u001b[34mLyrix\u001b[0m - \u001b[1;37mWARNING\u001b[0m - \u001b[33mfailed to get lyrics for Boogie Chillen\u001b[0m\n",
      "\u001b[32m2022-03-13 20:38:56\u001b[0m - \u001b[34mLyrix\u001b[0m - \u001b[1;37mWARNING\u001b[0m - \u001b[33mfailed to get lyrics for Not Fade Away\u001b[0m\n",
      "\u001b[32m2022-03-13 20:38:56\u001b[0m - \u001b[34mLyrix\u001b[0m - \u001b[1;37mWARNING\u001b[0m - \u001b[33mfailed to get lyrics for You Got The Silver\u001b[0m\n",
      "\u001b[32m2022-03-13 20:38:56\u001b[0m - \u001b[34mLyrix\u001b[0m - \u001b[1;37mWARNING\u001b[0m - \u001b[33mfailed to get lyrics for 100 Years Ago\u001b[0m\n",
      "\u001b[32m2022-03-13 20:38:56\u001b[0m - \u001b[34mLyrix\u001b[0m - \u001b[1;37mWARNING\u001b[0m - \u001b[33mfailed to get lyrics for Little Queenie\u001b[0m\n",
      "\u001b[32m2022-03-13 20:38:58\u001b[0m - \u001b[34mLyrix\u001b[0m - \u001b[1;37mINFO\u001b[0m - successfully got Drift Away for Rolling Stones\n",
      "\u001b[32m2022-03-13 20:38:58\u001b[0m - \u001b[34mLyrix\u001b[0m - \u001b[1;37mINFO\u001b[0m - successfully got You Can't Always Get What You Want for Rolling Stones\n",
      "\u001b[32m2022-03-13 20:38:59\u001b[0m - \u001b[34mLyrix\u001b[0m - \u001b[1;37mWARNING\u001b[0m - \u001b[33mfailed to get lyrics for Ride 'Em On Down\u001b[0m\n",
      "\u001b[32m2022-03-13 20:38:59\u001b[0m - \u001b[34mLyrix\u001b[0m - \u001b[1;37mWARNING\u001b[0m - \u001b[33mfailed to get lyrics for I Go Wild\u001b[0m\n",
      "\u001b[32m2022-03-13 20:38:59\u001b[0m - \u001b[34mLyrix\u001b[0m - \u001b[1;37mWARNING\u001b[0m - \u001b[33mfailed to get lyrics for I Got The Blues\u001b[0m\n",
      "\u001b[32m2022-03-13 20:38:59\u001b[0m - \u001b[34mLyrix\u001b[0m - \u001b[1;37mWARNING\u001b[0m - \u001b[33mfailed to get lyrics for Winter\u001b[0m\n",
      "\u001b[32m2022-03-13 20:38:59\u001b[0m - \u001b[34mLyrix\u001b[0m - \u001b[1;37mWARNING\u001b[0m - \u001b[33mfailed to get lyrics for It's Only Rock'n'Roll (But I Like It)\u001b[0m\n",
      "\u001b[32m2022-03-13 20:39:01\u001b[0m - \u001b[34mLyrix\u001b[0m - \u001b[1;37mWARNING\u001b[0m - \u001b[33mfailed to get lyrics for 2000 Light Years From Home / She’s A Rainbow / Keyboard Duet\u001b[0m\n",
      "\u001b[32m2022-03-13 20:39:01\u001b[0m - \u001b[34mLyrix\u001b[0m - \u001b[1;37mINFO\u001b[0m - successfully got Neighbours for Rolling Stones\n",
      "\u001b[32m2022-03-13 20:39:01\u001b[0m - \u001b[34mLyrix\u001b[0m - \u001b[1;37mINFO\u001b[0m - successfully got Start Me Up for Rolling Stones\n",
      "\u001b[32m2022-03-13 20:39:01\u001b[0m - \u001b[34mLyrix\u001b[0m - \u001b[1;37mINFO\u001b[0m - successfully got Worried About You for Rolling Stones\n",
      "\u001b[32m2022-03-13 20:39:01\u001b[0m - \u001b[34mLyrix\u001b[0m - \u001b[1;37mINFO\u001b[0m - successfully got Under My Thumb for Rolling Stones\n",
      "\u001b[32m2022-03-13 20:39:01\u001b[0m - \u001b[34mLyrix\u001b[0m - \u001b[1;37mINFO\u001b[0m - successfully got Twenty Flight Rock for Rolling Stones\n",
      "\u001b[32m2022-03-13 20:39:01\u001b[0m - \u001b[34mLyrix\u001b[0m - \u001b[1;37mINFO\u001b[0m - successfully got When The Whip Comes Down for Rolling Stones\n",
      "\u001b[32m2022-03-13 20:39:01\u001b[0m - \u001b[34mLyrix\u001b[0m - \u001b[1;37mINFO\u001b[0m - successfully got Just My Imagination (Running Away With Me) for Rolling Stones\n",
      "\u001b[32m2022-03-13 20:39:01\u001b[0m - \u001b[34mLyrix\u001b[0m - \u001b[1;37mINFO\u001b[0m - successfully got Heaven for Rolling Stones\n",
      "\u001b[32m2022-03-13 20:39:01\u001b[0m - \u001b[34mLyrix\u001b[0m - \u001b[1;37mINFO\u001b[0m - successfully got Let's Spend The Night Together for Rolling Stones\n",
      "\u001b[32m2022-03-13 20:39:01\u001b[0m - \u001b[34mLyrix\u001b[0m - \u001b[1;37mINFO\u001b[0m - successfully got Hang Fire for Rolling Stones\n",
      "\u001b[32m2022-03-13 20:39:01\u001b[0m - \u001b[34mLyrix\u001b[0m - \u001b[1;37mINFO\u001b[0m - successfully got Little T&A for Rolling Stones\n",
      "\u001b[32m2022-03-13 20:39:01\u001b[0m - \u001b[34mLyrix\u001b[0m - \u001b[1;37mINFO\u001b[0m - successfully got Slave for Rolling Stones\n",
      "\u001b[32m2022-03-13 20:39:01\u001b[0m - \u001b[34mLyrix\u001b[0m - \u001b[1;37mINFO\u001b[0m - successfully got Shattered for Rolling Stones\n",
      "\u001b[32m2022-03-13 20:39:04\u001b[0m - \u001b[34mLyrix\u001b[0m - \u001b[1;37mINFO\u001b[0m - successfully got Going To A Go-Go for Rolling Stones\n",
      "\u001b[32m2022-03-13 20:39:04\u001b[0m - \u001b[34mLyrix\u001b[0m - \u001b[1;37mINFO\u001b[0m - successfully got It's Only Rock 'N' Roll (But I Like It) for Rolling Stones\n",
      "\u001b[32m2022-03-13 20:39:04\u001b[0m - \u001b[34mLyrix\u001b[0m - \u001b[1;37mINFO\u001b[0m - successfully got Jumpin' Jack Flash for Rolling Stones\n",
      "\u001b[32m2022-03-13 20:39:04\u001b[0m - \u001b[34mLyrix\u001b[0m - \u001b[1;37mINFO\u001b[0m - successfully got (I Can't Get No) Satisfaction for Rolling Stones\n",
      "\u001b[32m2022-03-13 20:39:04\u001b[0m - \u001b[34mLyrix\u001b[0m - \u001b[1;37mINFO\u001b[0m - successfully got Mercy, Mercy for Rolling Stones\n",
      "\u001b[32m2022-03-13 20:39:04\u001b[0m - \u001b[34mLyrix\u001b[0m - \u001b[1;37mINFO\u001b[0m - successfully got Confessin' The Blues for Rolling Stones\n",
      "\u001b[32m2022-03-13 20:39:04\u001b[0m - \u001b[34mLyrix\u001b[0m - \u001b[1;37mINFO\u001b[0m - successfully got Sparks Will Fly for Rolling Stones\n",
      "\u001b[32m2022-03-13 20:39:04\u001b[0m - \u001b[34mLyrix\u001b[0m - \u001b[1;37mINFO\u001b[0m - successfully got Can't You Hear Me Knocking for Rolling Stones\n",
      "\u001b[32m2022-03-13 20:39:04\u001b[0m - \u001b[34mLyrix\u001b[0m - \u001b[1;37mINFO\u001b[0m - successfully got You Better Move On for Rolling Stones\n",
      "\u001b[32m2022-03-13 20:39:04\u001b[0m - \u001b[34mLyrix\u001b[0m - \u001b[1;37mINFO\u001b[0m - successfully got Wild Horses for Rolling Stones\n",
      "\u001b[32m2022-03-13 20:39:04\u001b[0m - \u001b[34mLyrix\u001b[0m - \u001b[1;37mINFO\u001b[0m - successfully got Carol for Rolling Stones\n",
      "\u001b[32m2022-03-13 20:39:04\u001b[0m - \u001b[34mLyrix\u001b[0m - \u001b[1;37mINFO\u001b[0m - successfully got Rain Fall Down for Rolling Stones\n",
      "\u001b[32m2022-03-13 20:39:04\u001b[0m - \u001b[34mLyrix\u001b[0m - \u001b[1;37mINFO\u001b[0m - successfully got I Gotta Go for Rolling Stones\n",
      "\u001b[32m2022-03-13 20:39:04\u001b[0m - \u001b[34mLyrix\u001b[0m - \u001b[1;37mINFO\u001b[0m - successfully got Commit A Crime for Rolling Stones\n",
      "\u001b[32m2022-03-13 20:39:06\u001b[0m - \u001b[34mLyrix\u001b[0m - \u001b[1;37mINFO\u001b[0m - successfully got Chantilly Lace for Rolling Stones\n",
      "\u001b[32m2022-03-13 20:39:06\u001b[0m - \u001b[34mLyrix\u001b[0m - \u001b[1;37mINFO\u001b[0m - successfully got Blue And Lonesome for Rolling Stones\n",
      "\u001b[32m2022-03-13 20:39:06\u001b[0m - \u001b[34mLyrix\u001b[0m - \u001b[1;37mINFO\u001b[0m - successfully got Memphis, Tennessee for Rolling Stones\n",
      "\u001b[32m2022-03-13 20:39:06\u001b[0m - \u001b[34mLyrix\u001b[0m - \u001b[1;37mINFO\u001b[0m - successfully got It's All Over Now for Rolling Stones\n",
      "\u001b[32m2022-03-13 20:39:06\u001b[0m - \u001b[34mLyrix\u001b[0m - \u001b[1;37mINFO\u001b[0m - successfully got Brown Sugar for Rolling Stones\n",
      "\u001b[32m2022-03-13 20:39:06\u001b[0m - \u001b[34mLyrix\u001b[0m - \u001b[1;37mINFO\u001b[0m - successfully got Time Is On My Side for Rolling Stones\n",
      "\u001b[32m2022-03-13 20:39:06\u001b[0m - \u001b[34mLyrix\u001b[0m - \u001b[1;37mINFO\u001b[0m - successfully got If You Need Me for Rolling Stones\n",
      "\u001b[32m2022-03-13 20:39:06\u001b[0m - \u001b[34mLyrix\u001b[0m - \u001b[1;37mINFO\u001b[0m - successfully got Sad Sad Sad for Rolling Stones\n",
      "\u001b[32m2022-03-13 20:39:06\u001b[0m - \u001b[34mLyrix\u001b[0m - \u001b[1;37mINFO\u001b[0m - successfully got Honky Tonk Women for Rolling Stones\n",
      "\u001b[32m2022-03-13 20:39:06\u001b[0m - \u001b[34mLyrix\u001b[0m - \u001b[1;37mINFO\u001b[0m - successfully got Sympathy For The Devil for Rolling Stones\n",
      "\u001b[32m2022-03-13 20:39:06\u001b[0m - \u001b[34mLyrix\u001b[0m - \u001b[1;37mINFO\u001b[0m - successfully got Ruby Tuesday for Rolling Stones\n"
     ]
    },
    {
     "name": "stderr",
     "output_type": "stream",
     "text": [
      "\u001b[32m2022-03-13 20:39:06\u001b[0m - \u001b[34mLyrix\u001b[0m - \u001b[1;37mINFO\u001b[0m - successfully got Doom And Gloom for Rolling Stones\n",
      "\u001b[32m2022-03-13 20:39:06\u001b[0m - \u001b[34mLyrix\u001b[0m - \u001b[1;37mINFO\u001b[0m - successfully got Crackin' Up for Rolling Stones\n",
      "\u001b[32m2022-03-13 20:39:06\u001b[0m - \u001b[34mLyrix\u001b[0m - \u001b[1;37mINFO\u001b[0m - successfully got Sway for Rolling Stones\n",
      "\u001b[32m2022-03-13 20:39:06\u001b[0m - \u001b[34mLyrix\u001b[0m - \u001b[1;37mINFO\u001b[0m - successfully got I Just Want To Make Love To You for Rolling Stones\n",
      "\u001b[32m2022-03-13 20:39:06\u001b[0m - \u001b[34mLyrix\u001b[0m - \u001b[1;37mINFO\u001b[0m - successfully got I Can't Be Satisfied for Rolling Stones\n",
      "\u001b[32m2022-03-13 20:39:06\u001b[0m - \u001b[34mLyrix\u001b[0m - \u001b[1;37mINFO\u001b[0m - successfully got I Wanna Be Your Man for Rolling Stones\n",
      "\u001b[32m2022-03-13 20:39:06\u001b[0m - \u001b[34mLyrix\u001b[0m - \u001b[1;37mINFO\u001b[0m - successfully got Tumbling Dice for Rolling Stones\n",
      "\u001b[32m2022-03-13 20:39:06\u001b[0m - \u001b[34mLyrix\u001b[0m - \u001b[1;37mINFO\u001b[0m - successfully got Moonlight Mile for Rolling Stones\n",
      "\u001b[32m2022-03-13 20:39:06\u001b[0m - \u001b[34mLyrix\u001b[0m - \u001b[1;37mINFO\u001b[0m - successfully got Don't Stop for Rolling Stones\n",
      "\u001b[32m2022-03-13 20:39:06\u001b[0m - \u001b[34mLyrix\u001b[0m - \u001b[1;37mINFO\u001b[0m - successfully got You Can’t Always Get What You Want for Rolling Stones\n",
      "\u001b[32m2022-03-13 20:39:06\u001b[0m - \u001b[34mLyrix\u001b[0m - \u001b[1;37mINFO\u001b[0m - successfully got Bitch for Rolling Stones\n",
      "\u001b[32m2022-03-13 20:39:06\u001b[0m - \u001b[34mLyrix\u001b[0m - \u001b[1;37mINFO\u001b[0m - successfully got Around And Around for Rolling Stones\n",
      "\u001b[32m2022-03-13 20:39:06\u001b[0m - \u001b[34mLyrix\u001b[0m - \u001b[1;37mINFO\u001b[0m - successfully got I Can't Quit You Baby for Rolling Stones\n",
      "\u001b[32m2022-03-13 20:39:08\u001b[0m - \u001b[34mLyrix\u001b[0m - \u001b[1;37mINFO\u001b[0m - successfully got The Spider And The Fly for Rolling Stones\n",
      "\u001b[32m2022-03-13 20:39:08\u001b[0m - \u001b[34mLyrix\u001b[0m - \u001b[1;37mINFO\u001b[0m - successfully got Let It Bleed for Rolling Stones\n",
      "\u001b[32m2022-03-13 20:39:08\u001b[0m - \u001b[34mLyrix\u001b[0m - \u001b[1;37mINFO\u001b[0m - successfully got Terrifying for Rolling Stones\n",
      "\u001b[32m2022-03-13 20:39:08\u001b[0m - \u001b[34mLyrix\u001b[0m - \u001b[1;37mINFO\u001b[0m - successfully got Hoo Doo Blues for Rolling Stones\n",
      "\u001b[32m2022-03-13 20:39:08\u001b[0m - \u001b[34mLyrix\u001b[0m - \u001b[1;37mINFO\u001b[0m - successfully got Midnight Rambler for Rolling Stones\n",
      "\u001b[32m2022-03-13 20:39:10\u001b[0m - \u001b[34mLyrix\u001b[0m - \u001b[1;37mINFO\u001b[0m - successfully got Let Me Go for Rolling Stones\n",
      "\u001b[32m2022-03-13 20:39:10\u001b[0m - \u001b[34mLyrix\u001b[0m - \u001b[1;37mINFO\u001b[0m - successfully got Rough Justice for Rolling Stones\n",
      "\u001b[32m2022-03-13 20:39:10\u001b[0m - \u001b[34mLyrix\u001b[0m - \u001b[1;37mINFO\u001b[0m - successfully got Beast Of Burden for Rolling Stones\n",
      "\u001b[32m2022-03-13 20:39:10\u001b[0m - \u001b[34mLyrix\u001b[0m - \u001b[1;37mINFO\u001b[0m - successfully got Happy for Rolling Stones\n",
      "\u001b[32m2022-03-13 20:39:10\u001b[0m - \u001b[34mLyrix\u001b[0m - \u001b[1;37mINFO\u001b[0m - successfully got This Place Is Empty for Rolling Stones\n",
      "\u001b[32m2022-03-13 20:39:10\u001b[0m - \u001b[34mLyrix\u001b[0m - \u001b[1;37mINFO\u001b[0m - successfully got Coming Down Again for Rolling Stones\n",
      "\u001b[32m2022-03-13 20:39:10\u001b[0m - \u001b[34mLyrix\u001b[0m - \u001b[1;37mINFO\u001b[0m - successfully got Jumpin’ Jack Flash for Rolling Stones\n",
      "\u001b[32m2022-03-13 20:39:10\u001b[0m - \u001b[34mLyrix\u001b[0m - \u001b[1;37mINFO\u001b[0m - successfully got Get Off Of My Cloud for Rolling Stones\n",
      "\u001b[32m2022-03-13 20:39:10\u001b[0m - \u001b[34mLyrix\u001b[0m - \u001b[1;37mINFO\u001b[0m - successfully got She's So Cold for Rolling Stones\n",
      "\u001b[32m2022-03-13 20:39:10\u001b[0m - \u001b[34mLyrix\u001b[0m - \u001b[1;37mWARNING\u001b[0m - \u001b[33mfailed to get lyrics for Living In The Heart Of Love\u001b[0m\n",
      "\u001b[32m2022-03-13 20:39:10\u001b[0m - \u001b[34mLyrix\u001b[0m - \u001b[1;37mWARNING\u001b[0m - \u001b[33mfailed to get lyrics for Shame, Shame, Shame\u001b[0m\n",
      "\u001b[32m2022-03-13 20:39:14\u001b[0m - \u001b[34mLyrix\u001b[0m - \u001b[1;37mINFO\u001b[0m - successfully got Wanna Hold You for Rolling Stones\n",
      "\u001b[32m2022-03-13 20:39:14\u001b[0m - \u001b[34mLyrix\u001b[0m - \u001b[1;37mINFO\u001b[0m - successfully got Undercover (Of The Night) for Rolling Stones\n",
      "\u001b[32m2022-03-13 20:39:14\u001b[0m - \u001b[34mLyrix\u001b[0m - \u001b[1;37mINFO\u001b[0m - successfully got All Down The Line for Rolling Stones\n",
      "\u001b[32m2022-03-13 20:39:14\u001b[0m - \u001b[34mLyrix\u001b[0m - \u001b[1;37mWARNING\u001b[0m - \u001b[33mfailed to get lyrics for Tops\u001b[0m\n",
      "\u001b[32m2022-03-13 20:39:14\u001b[0m - \u001b[34mLyrix\u001b[0m - \u001b[1;37mINFO\u001b[0m - successfully got Sweet Virginia for Rolling Stones\n",
      "\u001b[32m2022-03-13 20:39:14\u001b[0m - \u001b[34mLyrix\u001b[0m - \u001b[1;37mINFO\u001b[0m - successfully got Angie for Rolling Stones\n",
      "\u001b[32m2022-03-13 20:39:14\u001b[0m - \u001b[34mLyrix\u001b[0m - \u001b[1;37mWARNING\u001b[0m - \u001b[33mfailed to get lyrics for Fiji Jim\u001b[0m\n",
      "\u001b[32m2022-03-13 20:39:14\u001b[0m - \u001b[34mLyrix\u001b[0m - \u001b[1;37mINFO\u001b[0m - successfully got Out Of Tears for Rolling Stones\n",
      "\u001b[32m2022-03-13 20:39:14\u001b[0m - \u001b[34mLyrix\u001b[0m - \u001b[1;37mWARNING\u001b[0m - \u001b[33mfailed to get lyrics for Troubles A’ Comin\u001b[0m\n",
      "\u001b[32m2022-03-13 20:39:14\u001b[0m - \u001b[34mLyrix\u001b[0m - \u001b[1;37mWARNING\u001b[0m - \u001b[33mfailed to get lyrics for Fast Talking, Slow Walking\u001b[0m\n",
      "\u001b[32m2022-03-13 20:39:14\u001b[0m - \u001b[34mLyrix\u001b[0m - \u001b[1;37mWARNING\u001b[0m - \u001b[33mfailed to get lyrics for It's A Lie\u001b[0m\n",
      "\u001b[32m2022-03-13 20:39:16\u001b[0m - \u001b[34mLyrix\u001b[0m - \u001b[1;37mINFO\u001b[0m - successfully got Hide Your Love for Rolling Stones\n",
      "\u001b[32m2022-03-13 20:39:16\u001b[0m - \u001b[34mLyrix\u001b[0m - \u001b[1;37mINFO\u001b[0m - successfully got Silver Train for Rolling Stones\n",
      "\u001b[32m2022-03-13 20:39:16\u001b[0m - \u001b[34mLyrix\u001b[0m - \u001b[1;37mINFO\u001b[0m - successfully got All The Rage for Rolling Stones\n",
      "\u001b[32m2022-03-13 20:39:16\u001b[0m - \u001b[34mLyrix\u001b[0m - \u001b[1;37mINFO\u001b[0m - successfully got Hot Stuff for Rolling Stones\n",
      "\u001b[32m2022-03-13 20:39:16\u001b[0m - \u001b[34mLyrix\u001b[0m - \u001b[1;37mWARNING\u001b[0m - \u001b[33mfailed to get lyrics for Mona\u001b[0m\n",
      "\u001b[32m2022-03-13 20:39:16\u001b[0m - \u001b[34mLyrix\u001b[0m - \u001b[1;37mINFO\u001b[0m - successfully got Come On for Rolling Stones\n",
      "\u001b[32m2022-03-13 20:39:16\u001b[0m - \u001b[34mLyrix\u001b[0m - \u001b[1;37mINFO\u001b[0m - successfully got Scarlet for Rolling Stones\n",
      "\u001b[32m2022-03-13 20:39:16\u001b[0m - \u001b[34mLyrix\u001b[0m - \u001b[1;37mINFO\u001b[0m - successfully got It's Only Rock 'n Roll for Rolling Stones\n",
      "\u001b[32m2022-03-13 20:39:16\u001b[0m - \u001b[34mLyrix\u001b[0m - \u001b[1;37mINFO\u001b[0m - successfully got Ain't That Loving You Baby for Rolling Stones\n",
      "\u001b[32m2022-03-13 20:39:16\u001b[0m - \u001b[34mLyrix\u001b[0m - \u001b[1;37mINFO\u001b[0m - successfully got Thief In The Night for Rolling Stones\n",
      "\u001b[32m2022-03-13 20:39:16\u001b[0m - \u001b[34mLyrix\u001b[0m - \u001b[1;37mWARNING\u001b[0m - \u001b[33mfailed to get lyrics for I Can’t Turn You Loose\u001b[0m\n",
      "\u001b[32m2022-03-13 20:39:16\u001b[0m - \u001b[34mLyrix\u001b[0m - \u001b[1;37mWARNING\u001b[0m - \u001b[33mfailed to get lyrics for Intro\u001b[0m\n",
      "\u001b[32m2022-03-13 20:39:16\u001b[0m - \u001b[34mLyrix\u001b[0m - \u001b[1;37mWARNING\u001b[0m - \u001b[33mfailed to get lyrics for Oh No, Not You Again\u001b[0m\n",
      "\u001b[32m2022-03-13 20:39:19\u001b[0m - \u001b[34mLyrix\u001b[0m - \u001b[1;37mINFO\u001b[0m - successfully got Criss Cross for Rolling Stones\n",
      "\u001b[32m2022-03-13 20:39:19\u001b[0m - \u001b[34mLyrix\u001b[0m - \u001b[1;37mINFO\u001b[0m - successfully got Before They Make Me Run for Rolling Stones\n",
      "\u001b[32m2022-03-13 20:39:19\u001b[0m - \u001b[34mLyrix\u001b[0m - \u001b[1;37mINFO\u001b[0m - successfully got Who Do You Love? for Rolling Stones\n",
      "\u001b[32m2022-03-13 20:39:19\u001b[0m - \u001b[34mLyrix\u001b[0m - \u001b[1;37mWARNING\u001b[0m - \u001b[33mfailed to get lyrics for Rock Me Baby\u001b[0m\n",
      "\u001b[32m2022-03-13 20:39:19\u001b[0m - \u001b[34mLyrix\u001b[0m - \u001b[1;37mINFO\u001b[0m - successfully got Love Is Strong for Rolling Stones\n",
      "\u001b[32m2022-03-13 20:39:19\u001b[0m - \u001b[34mLyrix\u001b[0m - \u001b[1;37mINFO\u001b[0m - successfully got Streets Of Love for Rolling Stones\n",
      "\u001b[32m2022-03-13 20:39:19\u001b[0m - \u001b[34mLyrix\u001b[0m - \u001b[1;37mINFO\u001b[0m - successfully got The Worst for Rolling Stones\n",
      "\u001b[32m2022-03-13 20:39:19\u001b[0m - \u001b[34mLyrix\u001b[0m - \u001b[1;37mINFO\u001b[0m - successfully got Salt Of The Earth for Rolling Stones\n",
      "\u001b[32m2022-03-13 20:39:19\u001b[0m - \u001b[34mLyrix\u001b[0m - \u001b[1;37mINFO\u001b[0m - successfully got Bye Bye Johnny for Rolling Stones\n",
      "\u001b[32m2022-03-13 20:39:19\u001b[0m - \u001b[34mLyrix\u001b[0m - \u001b[1;37mWARNING\u001b[0m - \u001b[33mfailed to get lyrics for Faraway Eyes\u001b[0m\n",
      "\u001b[32m2022-03-13 20:39:19\u001b[0m - \u001b[34mLyrix\u001b[0m - \u001b[1;37mINFO\u001b[0m - successfully got One More Shot for Rolling Stones\n",
      "\u001b[32m2022-03-13 20:39:19\u001b[0m - \u001b[34mLyrix\u001b[0m - \u001b[1;37mINFO\u001b[0m - successfully got Street Fighting Man for Rolling Stones\n",
      "\u001b[32m2022-03-13 20:39:19\u001b[0m - \u001b[34mLyrix\u001b[0m - \u001b[1;37mWARNING\u001b[0m - \u001b[33mfailed to get lyrics for You Got Me Rockin’\u001b[0m\n",
      "\u001b[32m2022-03-13 20:39:19\u001b[0m - \u001b[34mLyrix\u001b[0m - \u001b[1;37mWARNING\u001b[0m - \u001b[33mfailed to get lyrics for Hi Heel Sneakers\u001b[0m\n",
      "\u001b[32m2022-03-13 20:39:19\u001b[0m - \u001b[34mLyrix\u001b[0m - \u001b[1;37mWARNING\u001b[0m - \u001b[33mfailed to get lyrics for Stop Breakin' Down Blues\u001b[0m\n",
      "\u001b[32m2022-03-13 20:39:19\u001b[0m - \u001b[34mLyrix\u001b[0m - \u001b[1;37mWARNING\u001b[0m - \u001b[33mfailed to get lyrics for I'm Moving On\u001b[0m\n",
      "\u001b[32m2022-03-13 20:39:22\u001b[0m - \u001b[34mLyrix\u001b[0m - \u001b[1;37mINFO\u001b[0m - successfully got Doo Doo Doo Doo Doo (Heartbreaker) for Rolling Stones\n",
      "\u001b[32m2022-03-13 20:39:22\u001b[0m - \u001b[34mLyrix\u001b[0m - \u001b[1;37mINFO\u001b[0m - successfully got It's Only Rock 'N Roll (But I Like It) for Rolling Stones\n",
      "\u001b[32m2022-03-13 20:39:22\u001b[0m - \u001b[34mLyrix\u001b[0m - \u001b[1;37mINFO\u001b[0m - successfully got Can’t Be Seen for Rolling Stones\n",
      "\u001b[32m2022-03-13 20:39:22\u001b[0m - \u001b[34mLyrix\u001b[0m - \u001b[1;37mINFO\u001b[0m - successfully got Rocks Off for Rolling Stones\n",
      "\u001b[32m2022-03-13 20:39:22\u001b[0m - \u001b[34mLyrix\u001b[0m - \u001b[1;37mINFO\u001b[0m - successfully got All Of Your Love for Rolling Stones\n"
     ]
    },
    {
     "name": "stderr",
     "output_type": "stream",
     "text": [
      "\u001b[32m2022-03-13 20:39:22\u001b[0m - \u001b[34mLyrix\u001b[0m - \u001b[1;37mINFO\u001b[0m - successfully got Fool To Cry for Rolling Stones\n",
      "\u001b[32m2022-03-13 20:39:22\u001b[0m - \u001b[34mLyrix\u001b[0m - \u001b[1;37mINFO\u001b[0m - successfully got Down The Road Apiece for Rolling Stones\n",
      "\u001b[32m2022-03-13 20:39:22\u001b[0m - \u001b[34mLyrix\u001b[0m - \u001b[1;37mWARNING\u001b[0m - \u001b[33mfailed to get lyrics for Band Introductions\u001b[0m\n",
      "\u001b[32m2022-03-13 20:39:22\u001b[0m - \u001b[34mLyrix\u001b[0m - \u001b[1;37mINFO\u001b[0m - successfully got Everybody Needs Somebody To Love for Rolling Stones\n",
      "\u001b[32m2022-03-13 20:39:22\u001b[0m - \u001b[34mLyrix\u001b[0m - \u001b[1;37mWARNING\u001b[0m - \u001b[33mfailed to get lyrics for Band Intros\u001b[0m\n",
      "\u001b[32m2022-03-13 20:39:22\u001b[0m - \u001b[34mLyrix\u001b[0m - \u001b[1;37mWARNING\u001b[0m - \u001b[33mfailed to get lyrics for Night Time Is The Right Time\u001b[0m\n",
      "\u001b[32m2022-03-13 20:39:24\u001b[0m - \u001b[34mLyrix\u001b[0m - \u001b[1;37mINFO\u001b[0m - successfully got Monkey Man for Rolling Stones\n",
      "\u001b[32m2022-03-13 20:39:24\u001b[0m - \u001b[34mLyrix\u001b[0m - \u001b[1;37mINFO\u001b[0m - successfully got Route 66 for Rolling Stones\n",
      "\u001b[32m2022-03-13 20:39:24\u001b[0m - \u001b[34mLyrix\u001b[0m - \u001b[1;37mINFO\u001b[0m - successfully got Some Girls for Rolling Stones\n",
      "\u001b[32m2022-03-13 20:39:24\u001b[0m - \u001b[34mLyrix\u001b[0m - \u001b[1;37mINFO\u001b[0m - successfully got Anybody Seen My Baby? for Rolling Stones\n",
      "\u001b[32m2022-03-13 20:39:24\u001b[0m - \u001b[34mLyrix\u001b[0m - \u001b[1;37mINFO\u001b[0m - successfully got You Gotta Move for Rolling Stones\n",
      "\u001b[32m2022-03-13 20:39:24\u001b[0m - \u001b[34mLyrix\u001b[0m - \u001b[1;37mINFO\u001b[0m - successfully got Connection for Rolling Stones\n",
      "\u001b[32m2022-03-13 20:39:24\u001b[0m - \u001b[34mLyrix\u001b[0m - \u001b[1;37mINFO\u001b[0m - successfully got Mixed Emotions for Rolling Stones\n",
      "\u001b[32m2022-03-13 20:39:24\u001b[0m - \u001b[34mLyrix\u001b[0m - \u001b[1;37mINFO\u001b[0m - successfully got The Last Time for Rolling Stones\n",
      "\u001b[32m2022-03-13 20:39:24\u001b[0m - \u001b[34mLyrix\u001b[0m - \u001b[1;37mINFO\u001b[0m - successfully got Sister Morphine for Rolling Stones\n",
      "\u001b[32m2022-03-13 20:39:24\u001b[0m - \u001b[34mLyrix\u001b[0m - \u001b[1;37mINFO\u001b[0m - successfully got Star Star for Rolling Stones\n",
      "\u001b[32m2022-03-13 20:39:24\u001b[0m - \u001b[34mLyrix\u001b[0m - \u001b[1;37mINFO\u001b[0m - successfully got Can You Hear The Music for Rolling Stones\n",
      "\u001b[32m2022-03-13 20:39:24\u001b[0m - \u001b[34mLyrix\u001b[0m - \u001b[1;37mINFO\u001b[0m - successfully got Cops And Robbers for Rolling Stones\n",
      "\u001b[32m2022-03-13 20:39:24\u001b[0m - \u001b[34mLyrix\u001b[0m - \u001b[1;37mINFO\u001b[0m - successfully got Rip This Joint for Rolling Stones\n",
      "\u001b[32m2022-03-13 20:39:24\u001b[0m - \u001b[34mLyrix\u001b[0m - \u001b[1;37mINFO\u001b[0m - successfully got Roll Over Beethoven for Rolling Stones\n",
      "\u001b[32m2022-03-13 20:39:24\u001b[0m - \u001b[34mLyrix\u001b[0m - \u001b[1;37mINFO\u001b[0m - successfully got Shine A Light for Rolling Stones\n",
      "\u001b[32m2022-03-13 20:39:24\u001b[0m - \u001b[34mLyrix\u001b[0m - \u001b[1;37mINFO\u001b[0m - successfully got Down In The Bottom for Rolling Stones\n",
      "\u001b[32m2022-03-13 20:39:24\u001b[0m - \u001b[34mLyrix\u001b[0m - \u001b[1;37mINFO\u001b[0m - successfully got Memory Motel for Rolling Stones\n",
      "\u001b[32m2022-03-13 20:39:24\u001b[0m - \u001b[34mLyrix\u001b[0m - \u001b[1;37mINFO\u001b[0m - successfully got Cry To Me for Rolling Stones\n",
      "\u001b[32m2022-03-13 20:39:27\u001b[0m - \u001b[34mLyrix\u001b[0m - \u001b[1;37mINFO\u001b[0m - successfully got 2120 South Michigan Avenue for Rolling Stones\n",
      "\u001b[32m2022-03-13 20:39:27\u001b[0m - \u001b[34mLyrix\u001b[0m - \u001b[1;37mINFO\u001b[0m - successfully got Little Red Rooster for Rolling Stones\n",
      "\u001b[32m2022-03-13 20:39:27\u001b[0m - \u001b[34mLyrix\u001b[0m - \u001b[1;37mINFO\u001b[0m - successfully got Everybody Knows About My Good Thing for Rolling Stones\n",
      "\u001b[32m2022-03-13 20:39:30\u001b[0m - \u001b[34mLyrix\u001b[0m - \u001b[1;37mINFO\u001b[0m - successfully got Respectable for Rolling Stones\n",
      "\u001b[32m2022-03-13 20:39:30\u001b[0m - \u001b[34mLyrix\u001b[0m - \u001b[1;37mINFO\u001b[0m - successfully got Walking The Dog for Rolling Stones\n",
      "\u001b[32m2022-03-13 20:39:30\u001b[0m - \u001b[34mLyrix\u001b[0m - \u001b[1;37mINFO\u001b[0m - successfully got Living In A Ghost Town for Rolling Stones\n",
      "\u001b[32m2022-03-13 20:39:30\u001b[0m - \u001b[34mLyrix\u001b[0m - \u001b[1;37mINFO\u001b[0m - successfully got Just Like I Treat You for Rolling Stones\n",
      "\u001b[32m2022-03-13 20:39:30\u001b[0m - \u001b[34mLyrix\u001b[0m - \u001b[1;37mINFO\u001b[0m - successfully got Emotional Rescue for Rolling Stones\n",
      "\u001b[32m2022-03-13 20:39:30\u001b[0m - \u001b[34mLyrix\u001b[0m - \u001b[1;37mINFO\u001b[0m - successfully got Out Of Control for Rolling Stones\n",
      "\u001b[32m2022-03-13 20:39:30\u001b[0m - \u001b[34mLyrix\u001b[0m - \u001b[1;37mINFO\u001b[0m - successfully got Little By Little for Rolling Stones\n",
      "\u001b[32m2022-03-13 20:39:30\u001b[0m - \u001b[34mLyrix\u001b[0m - \u001b[1;37mINFO\u001b[0m - successfully got Like A Rolling Stone for Rolling Stones\n",
      "\u001b[32m2022-03-13 20:39:30\u001b[0m - \u001b[34mLyrix\u001b[0m - \u001b[1;37mINFO\u001b[0m - successfully got Live With Me for Rolling Stones\n",
      "\u001b[32m2022-03-13 20:39:30\u001b[0m - \u001b[34mLyrix\u001b[0m - \u001b[1;37mINFO\u001b[0m - successfully got Beautiful Delilah for Rolling Stones\n",
      "\u001b[32m2022-03-13 20:39:30\u001b[0m - \u001b[34mLyrix\u001b[0m - \u001b[1;37mINFO\u001b[0m - successfully got Paint It Black for Rolling Stones\n",
      "\u001b[32m2022-03-13 20:39:30\u001b[0m - \u001b[34mLyrix\u001b[0m - \u001b[1;37mINFO\u001b[0m - successfully got Hate To See You Go for Rolling Stones\n",
      "\u001b[32m2022-03-13 20:39:30\u001b[0m - \u001b[34mLyrix\u001b[0m - \u001b[1;37mWARNING\u001b[0m - \u001b[33mfailed to get lyrics for Fannie Mae\u001b[0m\n",
      "\u001b[32m2022-03-13 20:39:30\u001b[0m - \u001b[34mLyrix\u001b[0m - \u001b[1;37mINFO\u001b[0m - successfully got Slipping Away for Rolling Stones\n",
      "\u001b[32m2022-03-13 20:39:30\u001b[0m - \u001b[34mLyrix\u001b[0m - \u001b[1;37mINFO\u001b[0m - successfully got Dead Flowers for Rolling Stones\n",
      "\u001b[32m2022-03-13 20:39:30\u001b[0m - \u001b[34mLyrix\u001b[0m - \u001b[1;37mWARNING\u001b[0m - \u001b[33mfailed to get lyrics for Honky Tonk Woman\u001b[0m\n",
      "\u001b[32m2022-03-13 20:39:33\u001b[0m - \u001b[34mLyrix\u001b[0m - \u001b[1;37mWARNING\u001b[0m - \u001b[33mfailed to get lyrics for Whoopi Goldberg Intro\u001b[0m\n",
      "\u001b[32m2022-03-13 20:39:37\u001b[0m - \u001b[34mLyrix\u001b[0m - \u001b[1;37mWARNING\u001b[0m - \u001b[33mfailed to get lyrics for Heartbreaker\u001b[0m\n",
      "\u001b[32m2022-03-13 20:39:37\u001b[0m - \u001b[34mLyrix\u001b[0m - \u001b[1;37mWARNING\u001b[0m - \u001b[33mfailed to get lyrics for Dancing With Mr. D\u001b[0m\n"
     ]
    },
    {
     "data": {
      "text/plain": [
       "{'nsongs': 189,\n",
       " 'nsongs_lyrics_found': 135,\n",
       " 'number_of_words': {'mean': 206.7,\n",
       "  'std': 75.94,\n",
       "  'variance': 5766.42,\n",
       "  'min': {'value': 1, 'song': '2120 South Michigan Avenue'},\n",
       "  'max': {'value': 474, 'song': 'Everybody Needs Somebody To Love'}}}"
      ]
     },
     "execution_count": 8,
     "metadata": {},
     "output_type": "execute_result"
    }
   ],
   "source": [
    "rolling_stones = lyrix.get('Rolling Stones')\n",
    "rolling_stones.stats"
   ]
  },
  {
   "cell_type": "markdown",
   "id": "random-sapphire",
   "metadata": {},
   "source": [
    "Now multiple artists are stored:"
   ]
  },
  {
   "cell_type": "code",
   "execution_count": 9,
   "id": "filled-taylor",
   "metadata": {},
   "outputs": [
    {
     "data": {
      "text/plain": [
       "dict_keys(['Queen', 'The Beatles', 'Rolling Stones'])"
      ]
     },
     "execution_count": 9,
     "metadata": {},
     "output_type": "execute_result"
    }
   ],
   "source": [
    "lyrix.keys()"
   ]
  },
  {
   "cell_type": "code",
   "execution_count": 10,
   "id": "tribal-parks",
   "metadata": {},
   "outputs": [
    {
     "data": {
      "text/plain": [
       "{'Queen': {'mean': 225.64,\n",
       "  'std': 106.4,\n",
       "  'variance': 11320.82,\n",
       "  'min': {'value': 1, 'song': '20th Century Fox Fanfare'},\n",
       "  'max': {'value': 451, 'song': 'The March of the Black Queen'}},\n",
       " 'The Beatles': {'mean': 154.55,\n",
       "  'std': 78.58,\n",
       "  'variance': 6174.97,\n",
       "  'min': {'value': 11, 'song': 'Sea Of Time'},\n",
       "  'max': {'value': 677, 'song': 'Revolution 9'}},\n",
       " 'Rolling Stones': {'mean': 206.7,\n",
       "  'std': 75.94,\n",
       "  'variance': 5766.42,\n",
       "  'min': {'value': 1, 'song': '2120 South Michigan Avenue'},\n",
       "  'max': {'value': 474, 'song': 'Everybody Needs Somebody To Love'}}}"
      ]
     },
     "execution_count": 10,
     "metadata": {},
     "output_type": "execute_result"
    }
   ],
   "source": [
    "{k:v.stats['number_of_words'] for k,v in lyrix.items()}"
   ]
  },
  {
   "cell_type": "markdown",
   "id": "guilty-hello",
   "metadata": {},
   "source": [
    "## Analysis the data"
   ]
  },
  {
   "cell_type": "markdown",
   "id": "straight-queue",
   "metadata": {},
   "source": [
    "Using `matplotlib`, which you may need to additional install via:\n",
    "```\n",
    "pip install matplotlib\n",
    "```"
   ]
  },
  {
   "cell_type": "code",
   "execution_count": 11,
   "id": "opponent-management",
   "metadata": {},
   "outputs": [],
   "source": [
    "import matplotlib.pyplot as plt"
   ]
  },
  {
   "cell_type": "markdown",
   "id": "aerial-affairs",
   "metadata": {},
   "source": [
    "Plot histograms of the number of words that are in all songs for all the artists retrieved:"
   ]
  },
  {
   "cell_type": "code",
   "execution_count": 12,
   "id": "geological-entry",
   "metadata": {},
   "outputs": [
    {
     "data": {
      "image/png": "[encoded data removed]",
      "text/plain": [
       "<Figure size 432x288 with 1 Axes>"
      ]
     },
     "metadata": {
      "needs_background": "light"
     },
     "output_type": "display_data"
    }
   ],
   "source": [
    "fig,ax = plt.subplots(1)\n",
    "\n",
    "data = {artist_name:[w['nwords'] for w in artist.words]\n",
    "        for artist_name,artist in lyrix.get_all_cached_artists().items()\n",
    "       }\n",
    "\n",
    "ax.hist(data.values(),\n",
    "        label=list(data.keys()),bins=range(0,400,30),histtype='step',lw=3)\n",
    "\n",
    "ax.set_ylabel('Number of Songs')\n",
    "ax.set_xlabel('Number of Words')\n",
    "ax.legend()\n",
    "plt.show()"
   ]
  },
  {
   "cell_type": "markdown",
   "id": "marked-austin",
   "metadata": {},
   "source": [
    "Using python pandas\n",
    "```\n",
    "pip install pandas\n",
    "```"
   ]
  },
  {
   "cell_type": "code",
   "execution_count": 13,
   "id": "swedish-davis",
   "metadata": {},
   "outputs": [],
   "source": [
    "import pandas as pd"
   ]
  },
  {
   "cell_type": "markdown",
   "id": "super-arbor",
   "metadata": {},
   "source": [
    "Construct a dataframe for some data extracts from the Beatles's songs:"
   ]
  },
  {
   "cell_type": "code",
   "execution_count": 14,
   "id": "jewish-computer",
   "metadata": {
    "scrolled": false
   },
   "outputs": [
    {
     "data": {
      "text/html": [
       "<div>\n",
       "<style scoped>\n",
       "    .dataframe tbody tr th:only-of-type {\n",
       "        vertical-align: middle;\n",
       "    }\n",
       "\n",
       "    .dataframe tbody tr th {\n",
       "        vertical-align: top;\n",
       "    }\n",
       "\n",
       "    .dataframe thead th {\n",
       "        text-align: right;\n",
       "    }\n",
       "</style>\n",
       "<table border=\"1\" class=\"dataframe\">\n",
       "  <thead>\n",
       "    <tr style=\"text-align: right;\">\n",
       "      <th></th>\n",
       "      <th>nwords</th>\n",
       "      <th>release_date</th>\n",
       "    </tr>\n",
       "    <tr>\n",
       "      <th>name</th>\n",
       "      <th></th>\n",
       "      <th></th>\n",
       "    </tr>\n",
       "  </thead>\n",
       "  <tbody>\n",
       "    <tr>\n",
       "      <th>Tomorrow Never Knows</th>\n",
       "      <td>101</td>\n",
       "      <td>1966-08-05</td>\n",
       "    </tr>\n",
       "    <tr>\n",
       "      <th>Love You To</th>\n",
       "      <td>91</td>\n",
       "      <td>1966-08-05</td>\n",
       "    </tr>\n",
       "    <tr>\n",
       "      <th>Got To Get You Into My Life</th>\n",
       "      <td>166</td>\n",
       "      <td>1966-08-05</td>\n",
       "    </tr>\n",
       "    <tr>\n",
       "      <th>Eleanor Rigby</th>\n",
       "      <td>205</td>\n",
       "      <td>1966-08-05</td>\n",
       "    </tr>\n",
       "    <tr>\n",
       "      <th>Taxman</th>\n",
       "      <td>134</td>\n",
       "      <td>1966-08-05</td>\n",
       "    </tr>\n",
       "    <tr>\n",
       "      <th>...</th>\n",
       "      <td>...</td>\n",
       "      <td>...</td>\n",
       "    </tr>\n",
       "    <tr>\n",
       "      <th>Everybody’s Trying To Be My Baby</th>\n",
       "      <td>74</td>\n",
       "      <td>2016-09-09</td>\n",
       "    </tr>\n",
       "    <tr>\n",
       "      <th>Revolution</th>\n",
       "      <td>184</td>\n",
       "      <td>2018-11-09</td>\n",
       "    </tr>\n",
       "    <tr>\n",
       "      <th>Come And Get It</th>\n",
       "      <td>197</td>\n",
       "      <td>2019-09-27</td>\n",
       "    </tr>\n",
       "    <tr>\n",
       "      <th>I’ve Got A Feeling</th>\n",
       "      <td>140</td>\n",
       "      <td>2021-10-15</td>\n",
       "    </tr>\n",
       "    <tr>\n",
       "      <th>Don’t Let Me Down</th>\n",
       "      <td>152</td>\n",
       "      <td>2021-10-15</td>\n",
       "    </tr>\n",
       "  </tbody>\n",
       "</table>\n",
       "<p>147 rows × 2 columns</p>\n",
       "</div>"
      ],
      "text/plain": [
       "                                  nwords release_date\n",
       "name                                                 \n",
       "Tomorrow Never Knows                 101   1966-08-05\n",
       "Love You To                           91   1966-08-05\n",
       "Got To Get You Into My Life          166   1966-08-05\n",
       "Eleanor Rigby                        205   1966-08-05\n",
       "Taxman                               134   1966-08-05\n",
       "...                                  ...          ...\n",
       "Everybody’s Trying To Be My Baby      74   2016-09-09\n",
       "Revolution                           184   2018-11-09\n",
       "Come And Get It                      197   2019-09-27\n",
       "I’ve Got A Feeling                   140   2021-10-15\n",
       "Don’t Let Me Down                    152   2021-10-15\n",
       "\n",
       "[147 rows x 2 columns]"
      ]
     },
     "execution_count": 14,
     "metadata": {},
     "output_type": "execute_result"
    }
   ],
   "source": [
    "df = pd.DataFrame([   \n",
    "    {'name':song['song_name'],\n",
    "    'nwords':song['nwords'],\n",
    "    'release_date':beatles.songs[song['song_name']]['release_date']}\n",
    "    for song in lyrix.get_words(beatles.songs)\n",
    "])\n",
    "df.set_index('name',inplace=True)\n",
    "df['release_date'] = pd.to_datetime(df['release_date'])\n",
    "df.sort_values('release_date',inplace=True)\n",
    "df\n"
   ]
  },
  {
   "cell_type": "markdown",
   "id": "impossible-specific",
   "metadata": {},
   "source": [
    "Make a dataframe view for the songs release pre-1970 - because Spotify has noted the release date of some songs as modern re-releases."
   ]
  },
  {
   "cell_type": "code",
   "execution_count": 15,
   "id": "dietary-timing",
   "metadata": {},
   "outputs": [],
   "source": [
    "df_1970 = df[df['release_date']<'1970']"
   ]
  },
  {
   "cell_type": "markdown",
   "id": "cathedral-london",
   "metadata": {},
   "source": [
    "Using `seaborn` for some extra functionality\n",
    "```\n",
    "pip install seaborn\n",
    "```"
   ]
  },
  {
   "cell_type": "code",
   "execution_count": 16,
   "id": "painful-norfolk",
   "metadata": {},
   "outputs": [],
   "source": [
    "import seaborn as sns\n",
    "import datetime "
   ]
  },
  {
   "cell_type": "markdown",
   "id": "third-scientist",
   "metadata": {},
   "source": [
    "Use a simple linear regression model to fit the data to see if there is any trend in the average number of words in songs released by the Beatles over several years:"
   ]
  },
  {
   "cell_type": "code",
   "execution_count": 17,
   "id": "adapted-routine",
   "metadata": {},
   "outputs": [
    {
     "data": {
      "image/png": "[encoded data removed]",
      "text/plain": [
       "<Figure size 432x288 with 1 Axes>"
      ]
     },
     "metadata": {
      "needs_background": "light"
     },
     "output_type": "display_data"
    }
   ],
   "source": [
    "df_1970['date_ordinal'] = pd.to_datetime(df_1970['release_date']).apply(lambda date: date.toordinal())\n",
    "ax = sns.regplot(x=\"date_ordinal\", y=\"nwords\", data=df_1970,x_bins=20)\n",
    "new_labels = [datetime.date.fromordinal(int(item)) for item in ax.get_xticks()]\n",
    "ax.set_xticklabels(new_labels)\n",
    "ax.set_ylabel('Mean number of words per song')\n",
    "ax.set_xlabel('Release Date')\n",
    "plt.xticks(rotation=90)\n",
    "plt.show()\n"
   ]
  },
  {
   "cell_type": "markdown",
   "id": "ordered-german",
   "metadata": {},
   "source": [
    "## Advanced Text Analysis\n",
    "\n",
    "Using `sklearn`\n",
    "```\n",
    "pip install sklearn\n",
    "```\n",
    "\n",
    "Setup the python modules & classes to be able to perform term-frequency times inverse document-frequency (TF-IDF)"
   ]
  },
  {
   "cell_type": "code",
   "execution_count": 18,
   "id": "complimentary-briefs",
   "metadata": {},
   "outputs": [],
   "source": [
    "from sklearn.feature_extraction.text import TfidfVectorizer\n",
    "from sklearn.metrics.pairwise import cosine_similarity\n",
    "import numpy as np\n",
    "import re"
   ]
  },
  {
   "cell_type": "markdown",
   "id": "bottom-tsunami",
   "metadata": {},
   "source": [
    "Prepare the data from the lyrix class instance:"
   ]
  },
  {
   "cell_type": "code",
   "execution_count": 19,
   "id": "vital-presentation",
   "metadata": {},
   "outputs": [],
   "source": [
    "data_queen = {k:re.sub(r'\\s+',\" \",song['lyrics'])\n",
    "     for k,song in queen.songs.items()\n",
    "     if song['lyrics'] }\n",
    "data_beatles = {k:re.sub(r'\\s+',\" \",song['lyrics'])\n",
    "     for k,song in beatles.songs.items()\n",
    "     if song['lyrics'] }"
   ]
  },
  {
   "cell_type": "markdown",
   "id": "molecular-victory",
   "metadata": {},
   "source": [
    "Checking the size of these:"
   ]
  },
  {
   "cell_type": "code",
   "execution_count": 20,
   "id": "plain-caution",
   "metadata": {},
   "outputs": [
    {
     "data": {
      "text/plain": [
       "(109, 147)"
      ]
     },
     "execution_count": 20,
     "metadata": {},
     "output_type": "execute_result"
    }
   ],
   "source": [
    "len(data_queen),len(data_beatles)"
   ]
  },
  {
   "cell_type": "markdown",
   "id": "floral-sterling",
   "metadata": {},
   "source": [
    "Vectorise all the possible words that are present in all songs (queen & beatles) and learn the common vocabulary."
   ]
  },
  {
   "cell_type": "code",
   "execution_count": 21,
   "id": "married-piece",
   "metadata": {},
   "outputs": [],
   "source": [
    "tf = TfidfVectorizer()\n",
    "tf.fit_transform({**data_beatles,**data_queen});"
   ]
  },
  {
   "cell_type": "markdown",
   "id": "choice-restriction",
   "metadata": {},
   "source": [
    "Perform the transform on the separate collection of lyrics to obtained separate vectorised collections of the lyrics"
   ]
  },
  {
   "cell_type": "code",
   "execution_count": 22,
   "id": "rotary-lending",
   "metadata": {},
   "outputs": [],
   "source": [
    "tfidf_1 = tf.transform(data_queen.values())\n",
    "tfidf_2 = tf.transform(data_beatles.values())"
   ]
  },
  {
   "cell_type": "code",
   "execution_count": 23,
   "id": "current-label",
   "metadata": {
    "scrolled": true
   },
   "outputs": [
    {
     "data": {
      "text/plain": [
       "((109, 419), (147, 419))"
      ]
     },
     "execution_count": 23,
     "metadata": {},
     "output_type": "execute_result"
    }
   ],
   "source": [
    "tfidf_1.shape,tfidf_2.shape"
   ]
  },
  {
   "cell_type": "markdown",
   "id": "strange-promise",
   "metadata": {},
   "source": [
    "Find similarities between the two array of the vectorised lyrics (for each song) to produce a matrix. This effectively computes a number for how similar any two songs are based upon key words (from the vectorised vocabulary) that are contained within the lyrics:"
   ]
  },
  {
   "cell_type": "code",
   "execution_count": 24,
   "id": "grand-estate",
   "metadata": {},
   "outputs": [],
   "source": [
    "arr = cosine_similarity(tfidf_1.todense(), tfidf_2.todense())"
   ]
  },
  {
   "cell_type": "markdown",
   "id": "actual-therapist",
   "metadata": {},
   "source": [
    "Plot the similarities:"
   ]
  },
  {
   "cell_type": "code",
   "execution_count": 25,
   "id": "registered-offset",
   "metadata": {},
   "outputs": [
    {
     "data": {
      "image/png": "[encoded data removed]",
      "text/plain": [
       "<Figure size 720x720 with 2 Axes>"
      ]
     },
     "metadata": {
      "needs_background": "light"
     },
     "output_type": "display_data"
    }
   ],
   "source": [
    "fig,ax = plt.subplots(1,figsize=(10,10))\n",
    "im = ax.matshow(arr,interpolation='nearest')\n",
    "\n",
    "fig.subplots_adjust(right=0.85)\n",
    "cbar_ax = fig.add_axes([0.88, 0.15, 0.04, 0.7])\n",
    "\n",
    "cbar = fig.colorbar(im, cax=cbar_ax)\n",
    "cbar.set_label('Lyrics Simularities')\n",
    "ax.set_ylabel('Queen Songs')\n",
    "ax.set_xlabel('Beatles Songs')\n",
    "ax.xaxis.set_label_position('top') \n",
    "plt.show();"
   ]
  },
  {
   "cell_type": "markdown",
   "id": "timely-tiffany",
   "metadata": {},
   "source": [
    "Find the indices of the two most closely matched songs (based on the words that are used):"
   ]
  },
  {
   "cell_type": "code",
   "execution_count": 26,
   "id": "automotive-movie",
   "metadata": {},
   "outputs": [
    {
     "data": {
      "text/plain": [
       "(22, 124)"
      ]
     },
     "execution_count": 26,
     "metadata": {},
     "output_type": "execute_result"
    }
   ],
   "source": [
    "queen_index,beatles_index = np.unravel_index(np.nanargmax(arr),arr.shape)\n",
    "queen_index,beatles_index"
   ]
  },
  {
   "cell_type": "markdown",
   "id": "computational-brake",
   "metadata": {},
   "source": [
    "Print the qualitative number for the similarity score:"
   ]
  },
  {
   "cell_type": "code",
   "execution_count": 27,
   "id": "traditional-train",
   "metadata": {},
   "outputs": [
    {
     "data": {
      "text/plain": [
       "0.7037077486079097"
      ]
     },
     "execution_count": 27,
     "metadata": {},
     "output_type": "execute_result"
    }
   ],
   "source": [
    "arr[queen_index,beatles_index]"
   ]
  },
  {
   "cell_type": "markdown",
   "id": "accepting-israeli",
   "metadata": {},
   "source": [
    "See which songs these are..."
   ]
  },
  {
   "cell_type": "code",
   "execution_count": 28,
   "id": "fatty-father",
   "metadata": {},
   "outputs": [
    {
     "data": {
      "text/plain": [
       "'My Fairy King'"
      ]
     },
     "execution_count": 28,
     "metadata": {},
     "output_type": "execute_result"
    }
   ],
   "source": [
    "queen_song = list(data_queen.keys())[queen_index]\n",
    "queen_song"
   ]
  },
  {
   "cell_type": "code",
   "execution_count": 29,
   "id": "established-defeat",
   "metadata": {},
   "outputs": [
    {
     "data": {
      "text/plain": [
       "'The Fool On The Hill'"
      ]
     },
     "execution_count": 29,
     "metadata": {},
     "output_type": "execute_result"
    }
   ],
   "source": [
    "beatles_song = list(data_beatles.keys())[beatles_index]\n",
    "beatles_song"
   ]
  },
  {
   "cell_type": "code",
   "execution_count": 30,
   "id": "handed-incentive",
   "metadata": {},
   "outputs": [
    {
     "data": {
      "text/plain": [
       "\"In the land where horses born with eagle wings. And honey bees have lost their stings. There's singing forever. Lion's den with fallow deer. And rivers made from wine so clear. Flow on and on forever. Dragons fly like sparrows thru' the air. And baby lambs where Samson dares. To go on on on on on on. My fairy king can see things He rules the air and turns the tides. That are not there for you and me Ohh yeah he guides the winds. My fairy king can do right and nothing wrong. Then came man to savage in the night. To run like thieves and to kill like knives. To take away the power from the magic hand. To bring about the ruin to the promised land. They turn the milk into sour. Like the blue in the blood of my veins. Why can't you see it. Fire burnin' in hell with the cry of screaming pain. Son of heaven set me free and let me go. Sea turn dry no salt from sand. Teeth don't shine like pearls for the poor man's eyes. Someone someone has drained the colour from my wings. Broken my fairy circle ring. And shamed the king in all his pride. Changed the winds and wronged the tides. Mother mercury (mercury). Look what they've done to me. I cannot run I cannot hide.\""
      ]
     },
     "execution_count": 30,
     "metadata": {},
     "output_type": "execute_result"
    }
   ],
   "source": [
    "data_queen[queen_song]"
   ]
  },
  {
   "cell_type": "code",
   "execution_count": 31,
   "id": "changed-trainer",
   "metadata": {},
   "outputs": [
    {
     "data": {
      "text/plain": [
       "\"Paroles de la chanson The Fool On The Hill par The Beatles Day after day, alone on the hill The man with the foolish grin Is keeping perfectly still But nobody wants to know him They can see that he's just a fool And he never gives an answer But the fool on the hill sees the sun going down And the eyes in his head see the world spinning round Well on his way, head in a cloud The man of a thousand voices Is talking perfectly loud But nobody ever hears him Or the sound he appears to make And he never seems to notice But the fool on the hill sees the sun going down And the eyes in his head see the world spinning round Oh, round, round, round, round, round And nobody seems to like him They can tell what he wants to do And he never shows his feelings But the fool on the hill sees the sun going down And the eyes in his head see the world spinning round Oh, round, round, round, round, round And he never listen to them He knows that they're the fools But they don't like him The fool on\""
      ]
     },
     "execution_count": 31,
     "metadata": {},
     "output_type": "execute_result"
    }
   ],
   "source": [
    "data_beatles[beatles_song]"
   ]
  },
  {
   "cell_type": "markdown",
   "id": "chubby-hawaii",
   "metadata": {},
   "source": [
    "Attempting to see why these songs are suggested to be similar by plotting the frequency of the words that appear in both songs."
   ]
  },
  {
   "cell_type": "code",
   "execution_count": 32,
   "id": "divine-shakespeare",
   "metadata": {
    "scrolled": false
   },
   "outputs": [
    {
     "data": {
      "image/png": "[encoded data removed]",
      "text/plain": [
       "<Figure size 432x288 with 1 Axes>"
      ]
     },
     "metadata": {
      "needs_background": "light"
     },
     "output_type": "display_data"
    }
   ],
   "source": [
    "d1 = {w['song_name']:w['unique_words'] for w in queen.words}[queen_song]\n",
    "d1 = pd.DataFrame.from_records(list(d1.items()),columns=['word',queen_song]).set_index('word')\n",
    "\n",
    "d2 = {w['song_name']:w['unique_words'] for w in beatles.words}[beatles_song]\n",
    "d2 = pd.DataFrame.from_records(list(d2.items()),columns=['word',beatles_song]).set_index('word')\n",
    "\n",
    "df = d1.join(d2)\n",
    "\n",
    "df.dropna().plot.bar()\n",
    "plt.show()"
   ]
  }
 ],
 "metadata": {
  "kernelspec": {
   "display_name": "Python 3",
   "language": "python",
   "name": "python3"
  },
  "language_info": {
   "codemirror_mode": {
    "name": "ipython",
    "version": 3
   },
   "file_extension": ".py",
   "mimetype": "text/x-python",
   "name": "python",
   "nbconvert_exporter": "python",
   "pygments_lexer": "ipython3",
   "version": "3.8.0"
  }
 },
 "nbformat": 4,
 "nbformat_minor": 5
}
